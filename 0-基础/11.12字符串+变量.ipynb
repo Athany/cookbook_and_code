{
 "cells": [
  {
   "cell_type": "markdown",
   "metadata": {},
   "source": [
    "## 字符串\n",
    "\n",
    "·转义字符\n",
    "\n",
    "·格式化\n",
    "\n",
    "·内建函数（后延）\n",
    "\n",
    "## 转义字符\n",
    "\n",
    "·用一个特殊的方法表示出一系列不方便写出的内容，比如回车键，换行键，退格键\n",
    "\n",
    "·借助反斜杠字符，一旦字符串中出现反斜杠后面的一个或几个字符表示的已经不是原来的意思了，进行了转义\n",
    "\n",
    "·在字符串中，一旦出现反斜杠就要加倍小心，可能有转义符出现\n",
    "\n",
    "·不同系统对换行操作有不同的表示\n",
    "\n",
    "    ·Windows：\\n\n",
    "    ·Linux：\\r\\n"
   ]
  },
  {
   "cell_type": "code",
   "execution_count": 2,
   "metadata": {},
   "outputs": [
    {
     "name": "stdout",
     "output_type": "stream",
     "text": [
      "I love Zhouxiao.\n"
     ]
    }
   ],
   "source": [
    "s=\"I love Zhouxiao.\"\n",
    "print(s)"
   ]
  },
  {
   "cell_type": "code",
   "execution_count": 6,
   "metadata": {},
   "outputs": [
    {
     "name": "stdout",
     "output_type": "stream",
     "text": [
      "Let's go!\n",
      "Let's go!\n",
      "c:\\user\n",
      "I love \r\n",
      " Zhouxiao.\n"
     ]
    }
   ],
   "source": [
    "# 如果想表达出Let's go!来\n",
    "# 1.可以使用嵌套引号，即外层使用双引号\n",
    "# 2.转义字符\n",
    "s=\"Let's go!\"\n",
    "print(s)\n",
    "\n",
    "# \\'=='\n",
    "ss='Let\\'s go!'\n",
    "print(ss)\n",
    "\n",
    "# \\\\==\\\n",
    "sss='c:\\\\user'\n",
    "print(sss)\n",
    "\n",
    "# 回车换行符\n",
    "sl='I love \\r\\n Zhouxiao.'# n后面的空格可以省略\n",
    "print(sl)"
   ]
  },
  {
   "cell_type": "markdown",
   "metadata": {},
   "source": [
    "## 字符串的格式化\n",
    "\n",
    "·把字符串按照一定格式打印或者填充\n",
    "\n",
    "·格式化由两种方法\n",
    "\n",
    "    ·利用百分号（%）\n",
    "    \n",
    "    ·利用farmat函数"
   ]
  },
  {
   "cell_type": "code",
   "execution_count": null,
   "metadata": {},
   "outputs": [],
   "source": [
    "s=\"xxx,您好，我们图灵学院开课了，免费的Python呀，不学白不学，学了也白学。\""
   ]
  },
  {
   "cell_type": "markdown",
   "metadata": {},
   "source": [
    "利用百分号格式化\n",
    "\n",
    "  ·在字符串中，利用%表示一个特殊的含义，表示对字符进行格式化\n",
    "    \n",
    "  ·%d:此处应该放一个整数\n",
    "    \n",
    "  ·%s:此处应该放一个字符串"
   ]
  },
  {
   "cell_type": "code",
   "execution_count": 9,
   "metadata": {},
   "outputs": [
    {
     "name": "stdout",
     "output_type": "stream",
     "text": [
      "I love %s\n"
     ]
    }
   ],
   "source": [
    "s=\"I love %s\"\n",
    "# 下面打印，直接把%s作为字符串的一个内容打印出来\n",
    "print(s)"
   ]
  },
  {
   "cell_type": "code",
   "execution_count": 15,
   "metadata": {},
   "outputs": [
    {
     "name": "stdout",
     "output_type": "stream",
     "text": [
      "I love Zhouxiao.\n"
     ]
    }
   ],
   "source": [
    "print(\"I love %s\"%\"Zhouxiao.\")"
   ]
  },
  {
   "cell_type": "code",
   "execution_count": 19,
   "metadata": {},
   "outputs": [
    {
     "name": "stdout",
     "output_type": "stream",
     "text": [
      "I love Zhouxiao.\n"
     ]
    }
   ],
   "source": [
    "print(s%\"Zhouxiao.\")"
   ]
  },
  {
   "cell_type": "code",
   "execution_count": 21,
   "metadata": {},
   "outputs": [
    {
     "name": "stdout",
     "output_type": "stream",
     "text": [
      "I am %d years old.\n",
      "I am 18 years old.\n"
     ]
    }
   ],
   "source": [
    "s=\"I am %d years old.\"\n",
    "# 留意下面两句话的区别和结果\n",
    "print(s)\n",
    "print(s%18)"
   ]
  },
  {
   "cell_type": "code",
   "execution_count": 8,
   "metadata": {},
   "outputs": [
    {
     "name": "stdout",
     "output_type": "stream",
     "text": [
      "I am %s,i am %d years old.\n",
      "I am tulingxueyuan,i am 18 years old.\n"
     ]
    }
   ],
   "source": [
    "s=\"I am %s,i am %d years old.\"\n",
    "print(s)\n",
    "# 注意以下表达的出错原因\n",
    "# 如果字符串中有占位符，则有几个占位符必须用几个实际内容代替，或者一个也不要\n",
    "# print（s%\"tulingxueyuan\"）\n",
    "# 如果出现多个占位符，则相应内容需要用括号括起来\n",
    "print(s%(\"tulingxueyuan\",18))"
   ]
  },
  {
   "cell_type": "markdown",
   "metadata": {},
   "source": [
    "### format函数格式化字符串\n",
    "\n",
    "·直接用format函数进行格式化\n",
    "\n",
    "·推荐使用这种方法\n",
    "\n",
    "·在使用上，以{}和：代替%号，后面用format带参数完成"
   ]
  },
  {
   "cell_type": "code",
   "execution_count": 26,
   "metadata": {},
   "outputs": [
    {
     "name": "stdout",
     "output_type": "stream",
     "text": [
      "I love Zhouxiao.\n",
      "Yes,i am 31 years old,I love Zhouxiao and i am 31 years old.\n"
     ]
    }
   ],
   "source": [
    "s=\"I love {}\".format(\"Zhouxiao.\")\n",
    "print(s)\n",
    "\n",
    "s=\"Yes,i am {1} years old,I love {0} and i am {1} years old.\".format(\"Zhouxiao\",31)\n",
    "print(s)"
   ]
  },
  {
   "cell_type": "code",
   "execution_count": null,
   "metadata": {},
   "outputs": [],
   "source": [
    "## None\n",
    "·表示什么都没有\n",
    "·如果函数没有返回值，可以返回None\n",
    "·用来占位置\n",
    "·用来接触变量绑定"
   ]
  },
  {
   "cell_type": "markdown",
   "metadata": {},
   "source": [
    "# 表达式\n",
    "\n",
    "·由一个或者几个数字或者变量和运算符组合成的一行代码\n",
    "\n",
    "·通常会返回一个结果\n",
    "\n",
    "# 运算符\n",
    "\n",
    "·有一个以上的值经过变化得到新值的过程就叫运算\n",
    "\n",
    "·用来运算的符号叫运算符\n",
    "\n",
    "·运算符分类：\n",
    "\n",
    "    ·算数运算符\n",
    "    ·比较或者关系运算符\n",
    "    ·赋值运算符\n",
    "    ·逻辑运算符\n",
    "    ·位运算\n",
    "    ·成员运算\n",
    "    ·身份运算符"
   ]
  },
  {
   "cell_type": "markdown",
   "metadata": {},
   "source": [
    "## 算数运算符\n",
    "\n",
    "·进行算数运算的符号\n",
    "\n",
    "·Python没有自增自减运算符"
   ]
  },
  {
   "cell_type": "code",
   "execution_count": 35,
   "metadata": {},
   "outputs": [
    {
     "name": "stdout",
     "output_type": "stream",
     "text": [
      "10\n",
      "36\n",
      "2.25\n",
      "1\n",
      "2\n",
      "6561\n",
      "27\n"
     ]
    }
   ],
   "source": [
    "# +，-跟正常算术运算符一模一样\n",
    "a=9+3-2\n",
    "print(a)\n",
    "# 乘号用星号（*）代替\n",
    "a=9*4\n",
    "print(a)\n",
    "# 除号用斜杠（/）代替\n",
    "# 在python2.x和Python3.x中，除号（/）结果可能不一致，此处以3系列为准\n",
    "a=9/4\n",
    "print(a)\n",
    "\n",
    "#  %取余运算\n",
    "# 两个数字相除应该有商数有余数\n",
    "#  %只会得到余数\n",
    "a=9%4\n",
    "print(a)\n",
    "\n",
    "# //表示取商运算，也叫地板除\n",
    "a=9//4\n",
    "print(a)\n",
    "\n",
    "# **表示幂运算\n",
    "a=9**4\n",
    "print(a)\n",
    "\n",
    "a=3**3\n",
    "print(a)\n"
   ]
  },
  {
   "cell_type": "markdown",
   "metadata": {},
   "source": [
    "## 比较运算符\n",
    "\n",
    "·对两个变量或者值进行比较的运算符\n",
    "\n",
    "·比较的结果是布尔值，即True/False"
   ]
  },
  {
   "cell_type": "code",
   "execution_count": 34,
   "metadata": {},
   "outputs": [
    {
     "name": "stdout",
     "output_type": "stream",
     "text": [
      "False\n",
      "True\n"
     ]
    }
   ],
   "source": [
    "# ==,等于号\n",
    "a=3**4\n",
    "# 下面语句执行顺序是\n",
    "# 1，计算a==80\n",
    "# 2，把结果放入b中\n",
    "b=a==80\n",
    "print(b)\n",
    "\n",
    "# != 不等于\n",
    "print(9!=8)\n",
    "\n",
    "# > 大于\n",
    "# < 小于\n",
    "# >=大于等于\n",
    "# <=小于等于"
   ]
  },
  {
   "cell_type": "markdown",
   "metadata": {},
   "source": [
    "\n",
    "赋值运算符"
   ]
  },
  {
   "cell_type": "code",
   "execution_count": 40,
   "metadata": {},
   "outputs": [
    {
     "name": "stdout",
     "output_type": "stream",
     "text": [
      "8\n"
     ]
    }
   ],
   "source": [
    "# =，赋值\n",
    "a=0\n",
    "c=b=4\n",
    "# +=,是缩写，\n",
    "a=1\n",
    "a+=7 #a=a+7的缩写\n",
    "print(a)\n",
    "# 所有数学运算符都有缩写形式\n",
    "# -=，*=，/=,//=,%=.**=,都是缩写形式"
   ]
  },
  {
   "cell_type": "markdown",
   "metadata": {},
   "source": [
    "# 逻辑运算符\n",
    "\n",
    "·对布尔值进行计算的符号\n",
    "\n",
    "·and逻辑与\n",
    "\n",
    "·or逻辑或\n",
    "\n",
    "·not逻辑非\n",
    "\n",
    "Python中逻辑运算没有异或运算\n",
    "\n",
    "·运算规则：\n",
    "\n",
    "   ·and看做乘法，or看做加法\n",
    "    \n",
    "   ·True看做1，False看做0\n",
    "\n",
    "   ·则逻辑运算就能转换成整数数学运算\n",
    "    \n",
    "   ·最后结果如果是0则为False，否则为True\n",
    "\n",
    "·逻辑运算的短路问题\n",
    "\n",
    "     ·逻辑运算式，按照运算顺序计算，一旦能够确定整个式子未来的值，则不再进行计算，直接返回"
   ]
  },
  {
   "cell_type": "code",
   "execution_count": 41,
   "metadata": {},
   "outputs": [
    {
     "name": "stdout",
     "output_type": "stream",
     "text": [
      "True\n",
      "True\n"
     ]
    }
   ],
   "source": [
    "# 逻辑运算符案例\n",
    "a=True\n",
    "b=False\n",
    "c=True\n",
    "#以下式子等价于d=1*0+1\n",
    "d=a and b or c\n",
    "print(d)\n",
    "\n",
    "d=a or b and a\n",
    "print(d)"
   ]
  },
  {
   "cell_type": "code",
   "execution_count": 44,
   "metadata": {},
   "outputs": [
    {
     "name": "stdout",
     "output_type": "stream",
     "text": [
      "True\n",
      "False\n"
     ]
    }
   ],
   "source": [
    "# 逻辑运算的短路案例\n",
    "# 下面的逻辑表达式，a的值一定是True，则运算到or的时候，整个表达式不再向下运算\n",
    "a=True or XXXXXXXXXXX\n",
    "print(a)\n",
    "# 注意XXXXXX的表达式在括号内\n",
    "a=False and (XXXXXX)\n",
    "print(a)\n"
   ]
  },
  {
   "cell_type": "markdown",
   "metadata": {},
   "source": [
    "# 成员运算符号\n",
    "\n",
    "·用来检测某一个变量是否是另一个变量的成员\n",
    "\n",
    "· in\n",
    "\n",
    "· not in"
   ]
  },
  {
   "cell_type": "code",
   "execution_count": 46,
   "metadata": {},
   "outputs": [
    {
     "name": "stdout",
     "output_type": "stream",
     "text": [
      "False\n",
      "True\n",
      "False\n"
     ]
    }
   ],
   "source": [
    "# 案例\n",
    "l=[1,2,3,4,5]\n",
    "a=7\n",
    "\n",
    "b=a in l\n",
    "print(b)\n",
    "\n",
    "a=4\n",
    "print(a in l)\n",
    "print(a not in l)"
   ]
  },
  {
   "cell_type": "markdown",
   "metadata": {},
   "source": [
    "## 身份运算\n",
    "\n",
    "·is：用来检测两个变量是否是同一个变量\n",
    "\n",
    "     ·语法就是var1 is var2\n",
    "    \n",
    "·is not：两个变量不是同一个变量"
   ]
  },
  {
   "cell_type": "code",
   "execution_count": 14,
   "metadata": {},
   "outputs": [
    {
     "name": "stdout",
     "output_type": "stream",
     "text": [
      "True\n",
      "8791422857216\n",
      "8791422857216\n",
      "False\n",
      "80218032\n",
      "80264048\n",
      "True\n",
      "80213752\n",
      "80213752\n",
      "False\n",
      "80214984\n",
      "80215432\n"
     ]
    }
   ],
   "source": [
    "a=9\n",
    "b=9\n",
    "print(a is b)\n",
    "\n",
    "print(id(a))\n",
    "print(id(b))\n",
    "\n",
    "c=\"I love Zhouxiao\"\n",
    "d=\"I love Zhouxiao\"\n",
    "print(c is d)\n",
    "\n",
    "print(id(c))\n",
    "print(id(d))\n",
    "\n",
    "\n",
    "e=\"qffff\"\n",
    "f=\"qffff\"\n",
    "print(e is f)\n",
    "\n",
    "print(id(e))\n",
    "print(id(f))\n",
    "\n",
    "g=\"qff  ff\"\n",
    "h=\"qff  ff\"\n",
    "print(g is h)\n",
    "\n",
    "print(id(g))\n",
    "print(id(h))"
   ]
  },
  {
   "cell_type": "markdown",
   "metadata": {},
   "source": [
    "## 运算符的优先级问题\n",
    "\n",
    "    ·永远记住，括号具有最高优先级\n",
    "    ·优先级表格\n",
    "           **指数（最高优先级）\n",
    "           ~+-按位翻转，一元加号和减号（最后两个的方法名为+@和-@）\n",
    "           */%//乘，除，取模和取整除\n",
    "           +-加法减法\n",
    "           》《右移，左移运算符\n",
    "           & 位'AND'\n",
    "           ^|位运算符\n",
    "           <= <  >   >=比较运算符\n",
    "           < > == !=等于运算符\n",
    "           =  %=  /=  //=  -=  +=  *=  **= 赋值运算符\n",
    "          is  is not 身份运算符\n",
    "          in  not in 成员运算符\n",
    "          not or and 逻辑运算符"
   ]
  },
  {
   "cell_type": "markdown",
   "metadata": {},
   "source": [
    "# 程序结构\n",
    "    ·顺序\n",
    "    ·分支\n",
    "    ·循环"
   ]
  },
  {
   "cell_type": "code",
   "execution_count": null,
   "metadata": {},
   "outputs": [],
   "source": []
  }
 ],
 "metadata": {
  "kernelspec": {
   "display_name": "Python 3",
   "language": "python",
   "name": "python3"
  },
  "language_info": {
   "codemirror_mode": {
    "name": "ipython",
    "version": 3
   },
   "file_extension": ".py",
   "mimetype": "text/x-python",
   "name": "python",
   "nbconvert_exporter": "python",
   "pygments_lexer": "ipython3",
   "version": "3.7.0"
  }
 },
 "nbformat": 4,
 "nbformat_minor": 2
}
