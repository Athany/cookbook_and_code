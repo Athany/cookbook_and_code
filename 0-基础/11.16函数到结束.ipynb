{
 "cells": [
  {
   "cell_type": "markdown",
   "metadata": {},
   "source": [
    "# 四类参数\n",
    "\n",
    "·普通参数\n",
    "\n",
    "·默认参数\n",
    "\n",
    "·关键字参数\n",
    "\n",
    "·收集参数"
   ]
  },
  {
   "cell_type": "markdown",
   "metadata": {},
   "source": [
    "## 关键字参数开始\n",
    "\n",
    "·语法\n",
    "\n",
    "        def func(p1=v1,p2=v2,......):\n",
    "            func_body\n",
    "        调用函数：\n",
    "        func(p1=value1,p2=value2,......)\n",
    "        \n",
    "·比较麻烦，但是也有好处：\n",
    "\n",
    "    ·不容易混淆，一般实参和形参只是按照位置一一对应即可，容易出错\n",
    "    \n",
    "    ·使用关键参数，可以不考虑参数位置\n",
    "    \n",
    " "
   ]
  },
  {
   "cell_type": "code",
   "execution_count": 2,
   "metadata": {},
   "outputs": [
    {
     "name": "stdout",
     "output_type": "stream",
     "text": [
      "I am a student\n",
      "我叫周潇,我今年18岁，我住在我家。\n"
     ]
    }
   ],
   "source": [
    "# 关键字参数案例\n",
    "# 普通参数只按照位置传递，容易出错\n",
    "def stu(name,age,addr):\n",
    "    print(\"I am a student\")\n",
    "    print(\"我叫{0},我今年{1}岁，我住在{2}。\".format(name,age,addr))\n",
    "    \n",
    "n=\"周潇\"\n",
    "a=\"18\"\n",
    "ad=\"我家\"\n",
    "stu(n,a,ad)"
   ]
  },
  {
   "cell_type": "code",
   "execution_count": 7,
   "metadata": {},
   "outputs": [
    {
     "name": "stdout",
     "output_type": "stream",
     "text": [
      "I am a student\n",
      "我叫周潇,我今年18岁，我住在我家。\n"
     ]
    }
   ],
   "source": [
    "def stu_key(name,age,addr):\n",
    "    print(\"I am a student\")\n",
    "    print(\"我叫{0},我今年{1}岁，我住在{2}。\".format(name,age,addr))\n",
    "    \n",
    "n = \"周潇\"\n",
    "a = \"18\"\n",
    "ad = \"我家\"\n",
    "stu_key(age=a,name=n,addr=ad)"
   ]
  },
  {
   "cell_type": "markdown",
   "metadata": {},
   "source": [
    "## 收集参数\n",
    "\n",
    "·把没有位置，不能和定义是的参数位置对应的参数，放入一个特定的数据结构中\n",
    "·语法\n",
    "\n",
    "\n",
    "                def func(*args):\n",
    "                    func_body\n",
    "                按照list使用方式访问args得到传入的参数    \n",
    "                    \n",
    "                调用：\n",
    "                func(p1,p2,p3......)\n",
    "                \n",
    " ·参数名args不是必须这么写，但是，我们推荐直接用args，约定俗成\n",
    " \n",
    " ·参数名args前需要有星号\n",
    " \n",
    " ·收集参数可以和其他参数共存"
   ]
  },
  {
   "cell_type": "code",
   "execution_count": 1,
   "metadata": {},
   "outputs": [
    {
     "name": "stdout",
     "output_type": "stream",
     "text": [
      "Hello,大家好，我自我介绍一下，简单说两句：\n",
      "<class 'tuple'>\n",
      "我叫赵双佳\n",
      "我今年18岁\n",
      "我来自天津\n",
      "我爱周潇\n",
      "Hello,大家好，我自我介绍一下，简单说两句：\n",
      "<class 'tuple'>\n",
      "我叫周潇\n"
     ]
    }
   ],
   "source": [
    "# 收集参数代码\n",
    "# 函数模拟一个学生进行自我介绍，但具体内容不清楚\n",
    "# args把它看做一个list\n",
    "\n",
    "def stu(*args):\n",
    "    print(\"Hello,大家好，我自我介绍一下，简单说两句：\")\n",
    "    # type函数的作用是检测变量的类型\n",
    "    print(type(args))\n",
    "    for item in args:\n",
    "        print(item)\n",
    "        \n",
    "stu(\"我叫赵双佳\",\"我今年18岁\",\"我来自天津\",\"我爱周潇\")\n",
    "stu(\"我叫周潇\")"
   ]
  },
  {
   "cell_type": "code",
   "execution_count": 2,
   "metadata": {},
   "outputs": [
    {
     "name": "stdout",
     "output_type": "stream",
     "text": [
      "Hello,大家好，我自我介绍一下，简单说两句：\n",
      "<class 'tuple'>\n"
     ]
    }
   ],
   "source": [
    "# 收集参数案例2\n",
    "# 说明收集参数可以不带任何实参调用，此时收集参数为空tuple\n",
    "stu()"
   ]
  },
  {
   "cell_type": "code",
   "execution_count": 3,
   "metadata": {},
   "outputs": [
    {
     "ename": "TypeError",
     "evalue": "stu() got an unexpected keyword argument 'name'",
     "output_type": "error",
     "traceback": [
      "\u001b[1;31m---------------------------------------------------------------------------\u001b[0m",
      "\u001b[1;31mTypeError\u001b[0m                                 Traceback (most recent call last)",
      "\u001b[1;32m<ipython-input-3-68add268ed9e>\u001b[0m in \u001b[0;36m<module>\u001b[1;34m()\u001b[0m\n\u001b[0;32m      1\u001b[0m \u001b[1;31m# 如果使用关键字参数调用，会出现问题\u001b[0m\u001b[1;33m\u001b[0m\u001b[1;33m\u001b[0m\u001b[0m\n\u001b[1;32m----> 2\u001b[1;33m \u001b[0mstu\u001b[0m\u001b[1;33m(\u001b[0m\u001b[0mname\u001b[0m\u001b[1;33m=\u001b[0m\u001b[1;34m\"TT\"\u001b[0m\u001b[1;33m)\u001b[0m\u001b[1;33m\u001b[0m\u001b[0m\n\u001b[0m",
      "\u001b[1;31mTypeError\u001b[0m: stu() got an unexpected keyword argument 'name'"
     ]
    }
   ],
   "source": [
    "# 如果使用关键字参数调用，会出现问题\n",
    "stu(name=\"TT\")"
   ]
  },
  {
   "cell_type": "markdown",
   "metadata": {},
   "source": [
    "### 收集参数之关键字收集参数\n",
    "\n",
    "·把关键字参数按字典格式存入收集参数\n",
    "\n",
    "·语法：\n",
    "            \n",
    "            def func(**kwargs):\n",
    "                func_body\n",
    "                \n",
    "            #调用：\n",
    "            func(p1=v1,p2=v2,p3=v3,......)\n",
    "·kwargs一般约定俗成的\n",
    "\n",
    "·调用的时候，把多余的关键字参数放入kwargs\n",
    "\n",
    "·访问kwargs需要按照字典格式访问"
   ]
  },
  {
   "cell_type": "code",
   "execution_count": 5,
   "metadata": {},
   "outputs": [
    {
     "name": "stdout",
     "output_type": "stream",
     "text": [
      "Hello,大家好，我先自我介绍一下：\n",
      "<class 'dict'>\n",
      "name ... zhaoshuangjia\n",
      "age ... 22\n",
      "addr ... tianjin\n",
      "lover ... zhouxiao\n",
      "**************************************************\n",
      "Hello,大家好，我先自我介绍一下：\n",
      "<class 'dict'>\n",
      "name ... zhouxiao\n"
     ]
    }
   ],
   "source": [
    "# 收集参数案例\n",
    "# 自我介绍\n",
    "# 调用的时候需要使用关键字参数调用\n",
    "def stu(**kwargs):\n",
    "    #在函数里面对于kwargs的使用不用带星号\n",
    "    print(\"Hello,大家好，我先自我介绍一下：\")\n",
    "    print(type(kwargs))\n",
    "    #对于字典的访问，python2和python3有区别\n",
    "    for k,v in kwargs.items():\n",
    "        print(k,\"...\",v)\n",
    "        \n",
    "stu(name=\"zhaoshuangjia\",age=22,addr=\"tianjin\",lover=\"zhouxiao\")\n",
    "\n",
    "print(\"*\" * 50)\n",
    "stu(name=\"zhouxiao\")"
   ]
  },
  {
   "cell_type": "code",
   "execution_count": 6,
   "metadata": {},
   "outputs": [
    {
     "name": "stdout",
     "output_type": "stream",
     "text": [
      "Hello,大家好，我先自我介绍一下：\n",
      "<class 'dict'>\n"
     ]
    }
   ],
   "source": [
    "# 收集参数可以为空案例\n",
    "stu()"
   ]
  },
  {
   "cell_type": "markdown",
   "metadata": {},
   "source": [
    "### 收集参数混合调用的顺序问题\n",
    "    ·收集参数，关键字参数，普通参数可以混合使用\n",
    "    ·使用规则就是，普通参数和关键字参数优先\n",
    "    ·定义的时候一般找普通参数，关键字参数，收集参数tuple，关键字收集参数dict"
   ]
  },
  {
   "cell_type": "code",
   "execution_count": 42,
   "metadata": {},
   "outputs": [
    {
     "name": "stdout",
     "output_type": "stream",
     "text": [
      "Hello,大家好\n",
      "我叫赵双佳，我今年18岁了，\n",
      "我没有爱好，so sorry!\n",
      "******************************\n",
      "##############################\n",
      "Hello,大家好\n",
      "我叫赵双佳，我今年18岁了，\n",
      "我的爱好是游泳\n",
      "******************************\n",
      "##############################\n",
      "Hello,大家好\n",
      "我叫赵双佳，我今年18岁了，\n",
      "我的爱好是游泳\n",
      "******************************\n",
      "我爱周潇\n",
      "我爱看电视\n",
      "##############################\n",
      "还喜欢 --- 看电影\n",
      "和 --- 品尝美食\n"
     ]
    }
   ],
   "source": [
    "# 收集参数混合调用案例\n",
    "# stu模拟一个学生的自我介绍\n",
    "def stu(name, age, *args, hobby=\"没有\", **kwargs):                                      # 顺序不能错！！！ \n",
    "    print(\"Hello,大家好\")\n",
    "    print(\"我叫{0}，我今年{1}岁了，\".format(name, age))\n",
    "    if hobby == \"没有\":                                                                 # == 是判断是否为真，返回布尔值\n",
    "        print(\"我没有爱好，so sorry!\")\n",
    "    else:                                                                                #  if  else 后面的冒号不能少\n",
    "        print(\"我的爱好是{0}\".format(hobby))                                             # 格式化顺序必须从0开始\n",
    "        \n",
    "    print(\"*\"*30)\n",
    "    \n",
    "    for i in args:\n",
    "        print(i)\n",
    "        \n",
    "    print(\"#\"*30)\n",
    "        \n",
    "    for k,v in kwargs.items():                                                            # .items()：格式以及括号冒号不能少\n",
    "        print(k, \"---\",v)\n",
    "        \n",
    "        \n",
    "        \n",
    "    #开始调用函数\n",
    "name = \"赵双佳\"\n",
    "age = 18\n",
    "\n",
    "#调用的不同格式\n",
    "stu(name,age)\n",
    "\n",
    "stu(name,age,hobby=\"游泳\")\n",
    "\n",
    "stu(name,age,\"我爱周潇\",\"我爱看电视\",hobby=\"游泳\",还喜欢=\"看电影\",和=\"品尝美食\")              #关键字收集参数字典格式，前面参数不用提前定义"
   ]
  },
  {
   "cell_type": "markdown",
   "metadata": {},
   "source": [
    "### 收集参数的解包问题\n",
    "    ·把参数放入list或者字典中，直接把list/dict中的值放入收集参数中\n",
    "    ·语法：参看案例\n"
   ]
  },
  {
   "cell_type": "code",
   "execution_count": 48,
   "metadata": {},
   "outputs": [
    {
     "name": "stdout",
     "output_type": "stream",
     "text": [
      "哈哈哈\n",
      "<class 'str'>\n",
      "你\n",
      "<class 'str'>\n",
      "我\n",
      "<class 'str'>\n",
      "他\n",
      "<class 'str'>\n",
      "她\n",
      "<class 'str'>\n",
      "它\n"
     ]
    }
   ],
   "source": [
    "def stu(*args):\n",
    "    print(\"哈哈哈\")\n",
    "\n",
    "    for i in args:\n",
    "        print(type(i))\n",
    "    \n",
    "        print(i)\n",
    "        \n",
    "        \n",
    "stu(\"你\",\"我\",\"他\",\"她\",\"它\")\n",
    "\n",
    "\n"
   ]
  },
  {
   "cell_type": "code",
   "execution_count": 56,
   "metadata": {},
   "outputs": [
    {
     "name": "stdout",
     "output_type": "stream",
     "text": [
      "哈哈哈\n",
      "<class 'tuple'>\n",
      "0\n",
      "('111', '222', 333, '444')\n",
      "哈哈哈\n",
      "<class 'str'>\n",
      "0\n",
      "111\n",
      "<class 'str'>\n",
      "1\n",
      "222\n",
      "<class 'int'>\n",
      "2\n",
      "333\n",
      "<class 'str'>\n",
      "3\n",
      "444\n"
     ]
    }
   ],
   "source": [
    "# 收集参数的解包问题\n",
    "\n",
    "def stu(*args):\n",
    "    print(\"哈哈哈\")\n",
    "    # n用来表示循环次数\n",
    "    #主要用来调试\n",
    "    n = 0\n",
    "    for i in args:\n",
    "        print(type(i))\n",
    "        print(n)\n",
    "        n += 1\n",
    "        print(i)\n",
    "        \n",
    "\n",
    "l = [\"111\",\"222\",333,\"444\"]\n",
    "stu(l)\n",
    "#此时，args的表示形式是元组内的一个list类型的元素，即 args = （[\"111\",\"222\",\"333\",\"444\"],）\n",
    "#很显然和我们最初的想法违背\n",
    "\n",
    "#此时的调用，我们就需要解包符号，即调用的时候前面加一个星号\n",
    "stu(*l)"
   ]
  },
  {
   "cell_type": "code",
   "execution_count": 90,
   "metadata": {},
   "outputs": [
    {
     "name": "stdout",
     "output_type": "stream",
     "text": [
      "哈哈哈\n",
      "<class 'dict'>\n",
      "111 ---- 1\n",
      "<class 'dict'>\n",
      "222 ---- 2\n",
      "<class 'dict'>\n",
      "333 ---- 3\n",
      "<class 'dict'>\n",
      "444 ---- 4\n",
      "**************************************************\n",
      "哈哈哈\n",
      "<class 'dict'>\n",
      "a ---- A\n",
      "<class 'dict'>\n",
      "b ---- 2\n",
      "<class 'dict'>\n",
      "c ---- 3\n"
     ]
    }
   ],
   "source": [
    "# 同理，dict类型收集参数一样可以解包，但是对dict类型进行解包需要用两个星号进行解包\n",
    "    \n",
    "def stu(**kwargs):\n",
    "    print(\"哈哈哈\")\n",
    "\n",
    "    for k,v in kwargs.items():\n",
    "        print(type(kwargs))\n",
    "        print(k,\"----\",v)\n",
    "    return\n",
    "        \n",
    "    \n",
    "l = {\"111\":1,\"222\":2, \"333\":3, \"444\":4}                                                  #注意格式\n",
    "stu(**l)\n",
    "print(\"*\"*50)\n",
    "\n",
    "stu(a='A',b=2,c=3)"
   ]
  },
  {
   "cell_type": "code",
   "execution_count": 79,
   "metadata": {},
   "outputs": [
    {
     "name": "stdout",
     "output_type": "stream",
     "text": [
      "1 - 2 - 3\n",
      "q - w - e\n",
      "* - * - *\n"
     ]
    }
   ],
   "source": [
    "# 双层列表（嵌套列表）\n",
    "a = [[1,2,3],['q','w','e'],['*','*','*']]\n",
    "# 遍历\n",
    "for x,y,z in a:\n",
    "    print(x,'-',y,'-',z)\n",
    "# 看 它们是一一对应的"
   ]
  },
  {
   "cell_type": "markdown",
   "metadata": {},
   "source": [
    "#  返回值\n",
    "    ·函数和过程的区别\n",
    "        ·有无返回值\n",
    "    ·需要用ruturn显示返回内容\n",
    "    ·如果没有返回，则默认返回None\n",
    "    "
   ]
  },
  {
   "cell_type": "code",
   "execution_count": 96,
   "metadata": {},
   "outputs": [
    {
     "name": "stdout",
     "output_type": "stream",
     "text": [
      "有返回值呀\n",
      "成功了\n",
      "没有返回值\n",
      "None\n"
     ]
    }
   ],
   "source": [
    "# 返回值示例\n",
    "def func_1():\n",
    "    print(\"有返回值呀\")\n",
    "    return \"成功了\"\n",
    "def func_2():\n",
    "    print(\"没有返回值\")\n",
    "    \n",
    "    \n",
    "f1 = func_1()\n",
    "print(f1)\n",
    "f2 = func_2()\n",
    "print(f2)"
   ]
  },
  {
   "cell_type": "code",
   "execution_count": 110,
   "metadata": {},
   "outputs": [
    {
     "name": "stdout",
     "output_type": "stream",
     "text": [
      "有返回值呀\n"
     ]
    },
    {
     "data": {
      "text/plain": [
       "'成功了'"
      ]
     },
     "execution_count": 110,
     "metadata": {},
     "output_type": "execute_result"
    }
   ],
   "source": [
    "def func_1():\n",
    "    print(\"有返回值呀\")\n",
    "    return \"成功了\"\n",
    "def func_2():\n",
    "    print(\"没有返回值\")\n",
    "    \n",
    "func_1()\n"
   ]
  },
  {
   "cell_type": "markdown",
   "metadata": {},
   "source": [
    "# 函数文档\n",
    "    ·函数的文档的作用是当前函数提供使用相关的参考信息\n",
    "    ·文档的写法：\n",
    "        ·在函数内部开始的第一行使用三引号字符串定义符\n",
    "        ·一般具有特定格式\n",
    "        ·参看案例\n",
    "    ·文档参看\n",
    "        ·使用help函数，形如 help(func)\n",
    "        ·使用 .__doc__，参看案例                                                          #doc前后各两个下划线"
   ]
  },
  {
   "cell_type": "code",
   "execution_count": 120,
   "metadata": {},
   "outputs": [],
   "source": [
    "# 文档案例\n",
    "# 函数stu是模拟一个学生的自我介绍的内容\n",
    "def stu(name,age,*args):\n",
    "    '''\n",
    "    这是第一行\n",
    "    这是第二行\n",
    "    这是第三行\n",
    "    '''\n",
    "    print(\"This is hanshu stu\")\n",
    "    "
   ]
  },
  {
   "cell_type": "code",
   "execution_count": 121,
   "metadata": {},
   "outputs": [
    {
     "name": "stdout",
     "output_type": "stream",
     "text": [
      "Help on function stu in module __main__:\n",
      "\n",
      "stu(name, age, *args)\n",
      "    这是第一行\n",
      "    这是第二行\n",
      "    这是第三行\n",
      "\n"
     ]
    },
    {
     "data": {
      "text/plain": [
       "'\\n    这是第一行\\n    这是第二行\\n    这是第三行\\n    '"
      ]
     },
     "execution_count": 121,
     "metadata": {},
     "output_type": "execute_result"
    }
   ],
   "source": [
    "# 查看函数文档\n",
    "help(stu)\n",
    "stu.__doc__"
   ]
  },
  {
   "cell_type": "code",
   "execution_count": 122,
   "metadata": {},
   "outputs": [
    {
     "name": "stdout",
     "output_type": "stream",
     "text": [
      "Help on function stu in module __main__:\n",
      "\n",
      "stu(name, age)\n",
      "    这是文档的文字内容\n",
      "    :param name: 表示学生的姓名\n",
      "    :param age: 表示学生的年龄\n",
      "    :return: 此函数没有返回值\n",
      "\n",
      "None\n",
      "******************************\n",
      "\n",
      "    这是文档的文字内容\n",
      "    :param name: 表示学生的姓名\n",
      "    :param age: 表示学生的年龄\n",
      "    :return: 此函数没有返回值\n",
      "    \n"
     ]
    }
   ],
   "source": [
    "def stu(name,age):\n",
    "    '''\n",
    "    这是文档的文字内容\n",
    "    :param name: 表示学生的姓名\n",
    "    :param age: 表示学生的年龄\n",
    "    :return: 此函数没有返回值\n",
    "    '''\n",
    "    pass\n",
    "\n",
    "\n",
    "print(help(stu))\n",
    "\n",
    "print(\"*\"*30)\n",
    "print(stu.__doc__)"
   ]
  },
  {
   "cell_type": "code",
   "execution_count": null,
   "metadata": {},
   "outputs": [],
   "source": []
  }
 ],
 "metadata": {
  "kernelspec": {
   "display_name": "Python 3",
   "language": "python",
   "name": "python3"
  },
  "language_info": {
   "codemirror_mode": {
    "name": "ipython",
    "version": 3
   },
   "file_extension": ".py",
   "mimetype": "text/x-python",
   "name": "python",
   "nbconvert_exporter": "python",
   "pygments_lexer": "ipython3",
   "version": "3.7.0"
  }
 },
 "nbformat": 4,
 "nbformat_minor": 2
}
