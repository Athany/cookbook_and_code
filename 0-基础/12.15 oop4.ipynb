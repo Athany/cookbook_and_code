{
 "cells": [
  {
   "cell_type": "code",
   "execution_count": 16,
   "metadata": {},
   "outputs": [
    {
     "name": "stdout",
     "output_type": "stream",
     "text": [
      "Hi，my name is ZHOUXIAO。\n",
      "Hi，my name is ZHAOSHUANGJIA。\n"
     ]
    }
   ],
   "source": [
    "# 属性案例\n",
    "# 创建Student类，描述学生类\n",
    "# 学生具有Student.name属性\n",
    "# 但name格式并不统一\n",
    "# 可以增加一个函数，然后自动调用的方式，但是很蠢\n",
    "\n",
    "class Student():\n",
    "    def __init__(self,name,age):\n",
    "        self.name = name    \n",
    "        self.age = age\n",
    "       \n",
    "    # 如果不想修改代码\n",
    "        self.setName(name)\n",
    "        \n",
    "# 介绍下自己\n",
    "    def jieshao(self):\n",
    "        print(\"Hi，my name is {0}。\".format(self.name))\n",
    "        \n",
    "    def setName(self,name):\n",
    "        self.name = name.upper()    \n",
    "        \n",
    "        \n",
    "        \n",
    "s1 = Student(\"zhouxiao\",18)\n",
    "s2 = Student(\"zhaoshuangjia\",20)\n",
    "\n",
    "s1.jieshao()\n",
    "s2.jieshao()"
   ]
  },
  {
   "cell_type": "code",
   "execution_count": null,
   "metadata": {},
   "outputs": [],
   "source": [
    "# property案例\n",
    "# 定义一个Person类，具有name，age属性\n",
    "# 对于任意输入的姓名，我们希望都用大写保存\n",
    "# 对于任意输入的年龄，我们希望用整数保存"
   ]
  },
  {
   "cell_type": "code",
   "execution_count": 26,
   "metadata": {},
   "outputs": [
    {
     "name": "stdout",
     "output_type": "stream",
     "text": [
      "ZHOUXIAOZHOUXIAO\n"
     ]
    }
   ],
   "source": [
    "# x = property（fget,fset,fdel,doc）\n",
    "class Person():\n",
    "    # 函数的名称可以任意\n",
    "    def fget(self):\n",
    "        return self.daxie_name * 2\n",
    "    \n",
    "    def fset(self,name):\n",
    "        # 所以输入的姓名以大写形式保存\n",
    "        self.daxie_name = name.upper()\n",
    "        \n",
    "    def fdel(self):\n",
    "        self.name = \"NoName\"\n",
    "        \n",
    "    name = property(fget, fset, fdel,\"对name进行下操作\")                                     #  fget, fset, fdel 顺序好像不能错\n",
    "\n",
    "p1 = Person()\n",
    "p1.name = \"zhouxiao\"\n",
    "print(p1.name)"
   ]
  },
  {
   "cell_type": "code",
   "execution_count": 31,
   "metadata": {},
   "outputs": [
    {
     "name": "stdout",
     "output_type": "stream",
     "text": [
      "ZHOUXIAOZHOUXIAO\n"
     ]
    }
   ],
   "source": [
    "# x = property（fget,fset,fdel,doc）\n",
    "class Person():\n",
    "    '''\n",
    "    这是一个doc文档\n",
    "    这是一个人\n",
    "    \n",
    "    '''\n",
    "    \n",
    "    # 函数的名称可以任意\n",
    "    def a(self):\n",
    "        return self.daxie_name * 2\n",
    "    \n",
    "    def b(self,name):\n",
    "        # 所以输入的姓名以大写形式保存\n",
    "        self.daxie_name = name.upper()\n",
    "        \n",
    "    def c(self):\n",
    "        self.name = \"NoName\"\n",
    "        \n",
    "    name = property(a, b, c,\"对name进行下操作\")                                     #  和上条对比\n",
    "\n",
    "p1 = Person()\n",
    "p1.name = \"zhouxiao\"\n",
    "print(p1.name)"
   ]
  },
  {
   "cell_type": "code",
   "execution_count": 37,
   "metadata": {},
   "outputs": [
    {
     "name": "stdout",
     "output_type": "stream",
     "text": [
      "{'__module__': '__main__', '__doc__': '\\n    这是一个doc文档\\n    这是一个人\\n    \\n    ', 'a': <function Person.a at 0x000001DCFA08BEA0>, 'b': <function Person.b at 0x000001DCFA08BF28>, 'c': <function Person.c at 0x000001DCFA123488>, 'name': <property object at 0x000001DCFA146EF8>, '__dict__': <attribute '__dict__' of 'Person' objects>, '__weakref__': <attribute '__weakref__' of 'Person' objects>}\n",
      "\n",
      "    这是一个doc文档\n",
      "    这是一个人\n",
      "    \n",
      "    \n",
      "Person\n",
      "(<class 'object'>,)\n"
     ]
    }
   ],
   "source": [
    "# 类的内置属性\n",
    "# __dict__:以字典的方式显示类的成员组成\n",
    "# __doc__:获取类的文档信息\n",
    "# __name__:获取类的名称，如果再模块中使用，获取模块的名称\n",
    "# __bases__:获取某个类的所有父类，与元组方式显示\n",
    "print(Person.__dict__)\n",
    "print(Person.__doc__)\n",
    "print(Person.__name__)\n",
    "print(Person.__bases__)"
   ]
  },
  {
   "cell_type": "code",
   "execution_count": null,
   "metadata": {},
   "outputs": [],
   "source": [
    "# 类的常用魔术方法\n",
    "    ·魔术方法就是不需要人为调用的方法，基本是在特定的时刻自动触发\n",
    "    ·魔术方法的统一特征，方法名被前后各两个下划线包裹\n",
    "    "
   ]
  },
  {
   "cell_type": "code",
   "execution_count": 45,
   "metadata": {},
   "outputs": [
    {
     "name": "stdout",
     "output_type": "stream",
     "text": [
      "魔法函数被调用\n",
      "魔法函数又被调用\n",
      "魔法函数再次被调用\n"
     ]
    }
   ],
   "source": [
    "# __init__:构造函数\n",
    "# 例：\n",
    "class A():\n",
    "    def __init__(self,name = 0):\n",
    "        print(\"魔法函数被调用\")\n",
    "              \n",
    "a = A()\n",
    "\n",
    "# __new__:对象实例化方法，此函数较特殊，一般不需要使用\n",
    "\n",
    "# __call__:对象当函数使用时触发\n",
    "# 例\n",
    "class A():\n",
    "    def __call__(self):\n",
    "        print(\"魔法函数又被调用\")\n",
    "              \n",
    "a = A()\n",
    "a()                                                                               # 注意小括号\n",
    "\n",
    "\n",
    "# __str__:当对象被当做字符串使用时触发\n",
    "# 例\n",
    "class A():\n",
    "    def __str__(self):\n",
    "        return \"魔法函数再次被调用\"                                                   # 用 return\n",
    "          \n",
    "a = A()\n",
    "print(a)\n",
    "\n",
    "# __repr__:返回字符串，跟str有少许区别"
   ]
  },
  {
   "cell_type": "code",
   "execution_count": 47,
   "metadata": {},
   "outputs": [
    {
     "name": "stdout",
     "output_type": "stream",
     "text": [
      "NoName\n",
      "没找到\n",
      "addr\n",
      "None\n"
     ]
    }
   ],
   "source": [
    "#  __getattr__:访问一个不存在的属性时触发\n",
    "\n",
    "class A():\n",
    "    name = \"NoName\"\n",
    "    age = 18\n",
    "    def __getattr__(self,name):\n",
    "        print(\"没找到\")\n",
    "        print(name)\n",
    "\n",
    "a = A()\n",
    "print(a.name)\n",
    "print(a.addr)                                                                                 # 为什么下面有个None？"
   ]
  },
  {
   "cell_type": "code",
   "execution_count": null,
   "metadata": {},
   "outputs": [],
   "source": [
    "# __setattr__:对成员属性进行设置的时候触发\n",
    "    ·参数：\n",
    "    ·self用来获取当前对象\n",
    "    ·被设置的属性名称，以字符串形式出现\n",
    "    ·需要对属性名称设置值\n",
    "    ·作用：进行属性设置的时候进行验证或者修改\n",
    "    ·注意：在该方法中不能对属性直接进行赋值操作，否则进入死循环\n",
    "#例"
   ]
  },
  {
   "cell_type": "code",
   "execution_count": 5,
   "metadata": {},
   "outputs": [
    {
     "name": "stdout",
     "output_type": "stream",
     "text": [
      "{}\n",
      "设置属性:a\n"
     ]
    }
   ],
   "source": [
    "\n",
    "class Person():\n",
    "    def __init__(self):\n",
    "        pass\n",
    "    \n",
    "    def __setattr__(self,name,value):\n",
    "        print(\"设置属性:{0}\".format(name))\n",
    "#下面语句会导致问题，死循环\n",
    "     #   self.name = value\n",
    "#为了避免死循环，规定统一调用父类魔法函数\n",
    "        super().__setattr__(name,value)\n",
    "p = Person()\n",
    "print(p.__dict__)\n",
    "p.a = \"sss\"                                                                     # 设置属性时触发"
   ]
  },
  {
   "cell_type": "code",
   "execution_count": null,
   "metadata": {},
   "outputs": [],
   "source": [
    "# 运算类相关魔术方法\n",
    "    ·__gt__:进行大于判断的时候触发的函数\n",
    "    ·参数：\t\n",
    "    ·self\n",
    "    ·第二个参数是第二个对象\n",
    "    ·返回值可以是任意值，推荐返回布尔值\n",
    "#例"
   ]
  },
  {
   "cell_type": "code",
   "execution_count": 34,
   "metadata": {},
   "outputs": [
    {
     "name": "stdout",
     "output_type": "stream",
     "text": [
      "one大于two?\n",
      "False\n"
     ]
    }
   ],
   "source": [
    "# __gt__案例\n",
    "\n",
    "class Student():\n",
    "    \n",
    "    \n",
    "    def __init__(self,name):\n",
    "        self.shiname = name\n",
    "        \n",
    "    def __gt__(self,obj):\n",
    "        print(\"{0}大于{1}?\".format(self.shiname,obj.shiname))                                        # 第二个参数是第二个对象\n",
    "        return self.shiname > obj.shiname\n",
    "\n",
    "stu1 = Student(\"one\")\n",
    "stu2 = Student(\"two\")\n",
    "\n",
    "print(stu1 > stu2)"
   ]
  },
  {
   "cell_type": "code",
   "execution_count": 13,
   "metadata": {},
   "outputs": [
    {
     "name": "stdout",
     "output_type": "stream",
     "text": [
      "{'__module__': '__main__', '__init__': <function Student.__init__ at 0x0000019B5AD84268>, '__gt__': <function Student.__gt__ at 0x0000019B5AD84048>, '__dict__': <attribute '__dict__' of 'Student' objects>, '__weakref__': <attribute '__weakref__' of 'Student' objects>, '__doc__': None}\n"
     ]
    }
   ],
   "source": [
    "\n",
    "print(Student.__dict__)"
   ]
  },
  {
   "cell_type": "code",
   "execution_count": null,
   "metadata": {},
   "outputs": [],
   "source": [
    "# 类和对象的三种方法：\n",
    "    ·实例方法：\n",
    "        ·需要实例化对象才能使用的方法\n",
    "    ·静态方法：\n",
    "        ·不需要实例化，通过类直接访问\n",
    "    ·类方法\n",
    "        ·不需要实例化\n",
    "#案例"
   ]
  },
  {
   "cell_type": "code",
   "execution_count": 46,
   "metadata": {},
   "outputs": [
    {
     "name": "stdout",
     "output_type": "stream",
     "text": [
      "<__main__.Person object at 0x0000019B5AE1A5F8>\n",
      "Eating\n",
      "\n",
      "<class '__main__.Person'>\n",
      "Playing\n",
      "<class '__main__.Person'>\n",
      "Playing\n",
      "\n",
      "Saying\n",
      "Saying\n"
     ]
    }
   ],
   "source": [
    "\n",
    "class Person:\n",
    "# 实例方法\n",
    "    def eat(self):\n",
    "        print(self)\n",
    "        print(\"Eating\")\n",
    "        \n",
    "# 类方法:第一个参数，一般命名为cls，区别于self\n",
    "    @classmethod                                                                     #  @符号的使用\n",
    "    def play(cls):\n",
    "        print(cls)\n",
    "        print(\"Playing\")\n",
    "        \n",
    "# 静态方法：#不需要用第一个参数表示自身或者类\n",
    "    @staticmethod                                                                    #  @符号的使用\n",
    "    def say():\n",
    "        print(\"Saying\")\n",
    "\n",
    "zhouxiao = Person()   \n",
    "# 实例方法    \n",
    "zhouxiao.eat()  \n",
    "\n",
    "print()\n",
    "\n",
    "# 类方法\n",
    "Person.play()\n",
    "zhouxiao.play() \n",
    "\n",
    "print()\n",
    "\n",
    "#静态方法\n",
    "Person.say()\n",
    "zhouxiao.say()"
   ]
  },
  {
   "cell_type": "code",
   "execution_count": null,
   "metadata": {},
   "outputs": [],
   "source": [
    "# 作业：自行查找三种方法内存使用方面的区别"
   ]
  }
 ],
 "metadata": {
  "kernelspec": {
   "display_name": "Python 3",
   "language": "python",
   "name": "python3"
  },
  "language_info": {
   "codemirror_mode": {
    "name": "ipython",
    "version": 3
   },
   "file_extension": ".py",
   "mimetype": "text/x-python",
   "name": "python",
   "nbconvert_exporter": "python",
   "pygments_lexer": "ipython3",
   "version": "3.7.0"
  }
 },
 "nbformat": 4,
 "nbformat_minor": 2
}
