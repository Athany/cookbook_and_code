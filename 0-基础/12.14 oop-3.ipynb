{
 "cells": [
  {
   "cell_type": "code",
   "execution_count": 3,
   "metadata": {},
   "outputs": [
    {
     "name": "stdout",
     "output_type": "stream",
     "text": [
      "(<class '__main__.A'>, <class 'object'>)\n",
      "(<class '__main__.B'>, <class '__main__.A'>, <class 'object'>)\n"
     ]
    }
   ],
   "source": [
    "class A():\n",
    "    pass\n",
    "\n",
    "class B(A):\n",
    "    pass\n",
    "\n",
    "print(A.__mro__)\n",
    "\n",
    "print(B.__mro__)"
   ]
  },
  {
   "cell_type": "code",
   "execution_count": 13,
   "metadata": {},
   "outputs": [
    {
     "name": "stdout",
     "output_type": "stream",
     "text": [
      "Working......\n",
      "***********************************\n",
      "I am flying......\n",
      "I am swimming。。。\n",
      "***********************************\n",
      "I am swimming。。。\n",
      "Working......\n"
     ]
    }
   ],
   "source": [
    "# 多继承的例子\n",
    "# 子类可以直接拥有父类的属性和方法，私有属性和方法除外\n",
    "\n",
    "class Fish():\n",
    "    def __int__(self,name):\n",
    "        self.name = name\n",
    "    def swim(self):\n",
    "        print(\"I am swimming。。。\")\n",
    "        \n",
    "class Bird():\n",
    "    def __init__(self,name):\n",
    "        self.name = name\n",
    "    def fly(self):\n",
    "        print(\"I am flying......\")\n",
    "        \n",
    "class Person():\n",
    "    def __init__(self,name):\n",
    "        self.name = name\n",
    "    def work(self):\n",
    "        print(\"Working......\")\n",
    "        \n",
    "\n",
    "# 单继承的例子\n",
    "\n",
    "class Student(Person):\n",
    "    pass\n",
    "\n",
    "stu = Student(\"bb\")\n",
    "stu.work()        \n",
    "        \n",
    "print(\"*\"*35)        \n",
    "# 多继承的例子        \n",
    "class SuperMan(Person,Bird,Fish):\n",
    "    pass\n",
    "\n",
    "s = SuperMan(\"aa\")\n",
    "s.fly()\n",
    "s.swim()\n",
    "\n",
    "print(\"*\"*35)\n",
    "\n",
    "\n",
    "class SwimMan(Person,Fish):\n",
    "    def __init__(self,name):\n",
    "        self.name = name\n",
    "        \n",
    "b = SwimMan(\"cc\")\n",
    "        \n",
    "b.swim()\n",
    "b.work()"
   ]
  },
  {
   "cell_type": "code",
   "execution_count": null,
   "metadata": {},
   "outputs": [],
   "source": [
    "# 菱形继承问题\n",
    "class A():\n",
    "    pass\n",
    "\n",
    "class B(A):\n",
    "    pass\n",
    "\n",
    "class C(A):\n",
    "    pass\n",
    "\n",
    "class D(B,C):\n",
    "    pass\n"
   ]
  },
  {
   "cell_type": "code",
   "execution_count": 16,
   "metadata": {},
   "outputs": [
    {
     "name": "stdout",
     "output_type": "stream",
     "text": [
      "in init fanc\n"
     ]
    }
   ],
   "source": [
    "# 构造函数的例子\n",
    "\n",
    "class Person():\n",
    "    # 对Person类进行实例化的时候\n",
    "    # 姓名要确定\n",
    "    # 年龄得确定\n",
    "    # 地址肯定有\n",
    "    def __init__(self):\n",
    "        self.name = \"Noname\"\n",
    "        self.age = 18\n",
    "        self.address = \"tianjin\"\n",
    "        print(\"in init fanc\")\n",
    "        \n",
    "        \n",
    "# 实例化一个人\n",
    "\n",
    "p = Person()"
   ]
  },
  {
   "cell_type": "code",
   "execution_count": 5,
   "metadata": {},
   "outputs": [
    {
     "name": "stdout",
     "output_type": "stream",
     "text": [
      "B\n"
     ]
    }
   ],
   "source": [
    "# 构造函数的调用顺序 -1\n",
    "# 如果子类没有写构造函数，则会按照MRO的顺序自动向上查找，一直找到为止\n",
    "\n",
    "class A():\n",
    "    def __init__(self):\n",
    "        print(\"A\")\n",
    "\n",
    "class B(A):\n",
    "    def __init__(self):\n",
    "        print(\"B\")\n",
    "        \n",
    "class C(B):\n",
    "    pass\n",
    "\n",
    "# 此时，首先查找C的构造函数\n",
    "# 如果没有，则向上按照MRO顺序查找父类的构造函数，直到找到为止\n",
    "#\n",
    "\n",
    "c = C()\n",
    "\n"
   ]
  },
  {
   "cell_type": "code",
   "execution_count": 6,
   "metadata": {},
   "outputs": [
    {
     "ename": "TypeError",
     "evalue": "__init__() missing 1 required positional argument: 'name'",
     "output_type": "error",
     "traceback": [
      "\u001b[1;31m---------------------------------------------------------------------------\u001b[0m",
      "\u001b[1;31mTypeError\u001b[0m                                 Traceback (most recent call last)",
      "\u001b[1;32m<ipython-input-6-f5a7e2ac4c42>\u001b[0m in \u001b[0;36m<module>\u001b[1;34m()\u001b[0m\n\u001b[0;32m     18\u001b[0m \u001b[1;31m# 此时，会出现参数结构不对应错误\u001b[0m\u001b[1;33m\u001b[0m\u001b[1;33m\u001b[0m\u001b[0m\n\u001b[0;32m     19\u001b[0m \u001b[1;33m\u001b[0m\u001b[0m\n\u001b[1;32m---> 20\u001b[1;33m \u001b[0mc\u001b[0m \u001b[1;33m=\u001b[0m \u001b[0mC\u001b[0m\u001b[1;33m(\u001b[0m\u001b[1;33m)\u001b[0m\u001b[1;33m\u001b[0m\u001b[0m\n\u001b[0m",
      "\u001b[1;31mTypeError\u001b[0m: __init__() missing 1 required positional argument: 'name'"
     ]
    }
   ],
   "source": [
    "# 构造函数的调用顺序 -2\n",
    "# 如果子类没有写构造函数，则会按照MRO的顺序自动向上查找，一直找到为止\n",
    "\n",
    "class A():\n",
    "    def __init__(self):\n",
    "        print(\"A\")\n",
    "\n",
    "class B(A):\n",
    "    def __init__(self,name):                                                             # 多了一个参数 name\n",
    "        print(\"B\")\n",
    "        print(name)\n",
    "        \n",
    "class C(B):\n",
    "    pass\n",
    "\n",
    "# 此时，首先查找C的构造函数\n",
    "# 如果没有，则向上按照MRO顺序查找父类的构造函数，直到找到为止\n",
    "# 此时，会出现参数结构不对应错误\n",
    "\n",
    "c = C()\n"
   ]
  },
  {
   "cell_type": "code",
   "execution_count": 9,
   "metadata": {},
   "outputs": [
    {
     "name": "stdout",
     "output_type": "stream",
     "text": [
      "B\n",
      "我是C\n",
      "这是C中附加的功能\n"
     ]
    }
   ],
   "source": [
    "# 构造函数的调用顺序 -3\n",
    "# 如果子类没有写构造函数，则会按照MRO的顺序自动向上查找，一直找到为止\n",
    "\n",
    "class A():\n",
    "    def __init__(self):\n",
    "        print(\"A\")\n",
    "\n",
    "class B(A):\n",
    "    def __init__(self,name):\n",
    "        print(\"B\")\n",
    "        print(name)\n",
    "        \n",
    "class C(B):\n",
    "    # c中想扩展B的结构函数\n",
    "    # 即调用B的构造函数后添加一些功能\n",
    "    # 有两种方法实现\n",
    "    # 第一种是通过父类名调用\n",
    "    def __init__(self,name):\n",
    "        # 首先调用父类结构函数\n",
    "        B.__init__(self,name)\n",
    "        # 其次，再增加自己的功能\n",
    "        print(\"这是C中附加的功能\")\n",
    "    pass\n",
    "\n",
    "# 此时，首先查找C的构造函数\n",
    "# 如果没有，则向上按照MRO顺序查找父类的构造函数，直到找到为止\n",
    "# 此时，会出现参数结构不对应错误\n",
    "\n",
    "c = C(\"我是C\")\n"
   ]
  },
  {
   "cell_type": "code",
   "execution_count": 10,
   "metadata": {},
   "outputs": [
    {
     "name": "stdout",
     "output_type": "stream",
     "text": [
      "这是C中附加的功能\n"
     ]
    }
   ],
   "source": [
    "# 构造函数的调用顺序 -3\n",
    "# 如果子类没有写构造函数，则会按照MRO的顺序自动向上查找，一直找到为止\n",
    "\n",
    "class A():\n",
    "    def __init__(self):\n",
    "        print(\"A\")\n",
    "\n",
    "class B(A):\n",
    "    def __init__(self,name):\n",
    "        print(\"B\")\n",
    "        print(name)\n",
    "        \n",
    "class C(B):\n",
    "    # c中想扩展B的结构函数\n",
    "    # 即调用B的构造函数后添加一些功能\n",
    "    # 有两种方法实现\n",
    "    # 第一种是通过父类名调用\n",
    "    def __init__(self,name):\n",
    "        # 首先调用父类结构函数\n",
    "        # B.__init__(self,name)\n",
    "        # 其次，再增加自己的功能                                                                # 这儿变了，其他没变\n",
    "        print(\"这是C中附加的功能\")\n",
    "    pass\n",
    "\n",
    "# 此时，首先查找C的构造函数\n",
    "# 如果没有，则向上按照MRO顺序查找父类的构造函数，直到找到为止\n",
    "# 此时，会出现参数结构不对应错误\n",
    "\n",
    "c = C(\"我是C\")\n"
   ]
  },
  {
   "cell_type": "code",
   "execution_count": 25,
   "metadata": {},
   "outputs": [
    {
     "name": "stdout",
     "output_type": "stream",
     "text": [
      "B\n",
      "我是C\n",
      "这是C中附加的功能\n"
     ]
    }
   ],
   "source": [
    "# 构造函数的调用顺序 -3\n",
    "# 如果子类没有写构造函数，则会按照MRO的顺序自动向上查找，一直找到为止\n",
    "\n",
    "class A():\n",
    "    def __init__(self):\n",
    "        print(\"A\")\n",
    "\n",
    "class B(A):\n",
    "    def __init__(self,name):\n",
    "        print(\"B\")\n",
    "        print(name)\n",
    "        \n",
    "class C(B):\n",
    "    # c中想扩展B的结构函数\n",
    "    # 即调用B的构造函数后添加一些功能\n",
    "    # 有两种方法实现\n",
    "    # 第二种，使用super调用\n",
    "    def __init__(self,name):\n",
    "        # 首先用super调用父类结构函数\n",
    "        super(C,self).__init__(name)                                                       # 为什么是这种格式\n",
    "        # 其次，再增加自己的功能\n",
    "        print(\"这是C中附加的功能\")\n",
    "    pass\n",
    "\n",
    "# 此时，首先查找C的构造函数\n",
    "# 如果没有，则向上按照MRO顺序查找父类的构造函数，直到找到为止\n",
    "# 此时，会出现参数结构不对应错误\n",
    "\n",
    "c = C(\"我是C\")\n"
   ]
  },
  {
   "cell_type": "code",
   "execution_count": 34,
   "metadata": {},
   "outputs": [
    {
     "name": "stdout",
     "output_type": "stream",
     "text": [
      "(<class '__main__.Tutor'>, <class '__main__.Teacher'>, <class '__main__.Student'>, <class '__main__.Person'>, <class 'object'>)\n",
      "{}\n",
      "{'__module__': '__main__', '__doc__': None}\n",
      "**************************************************\n",
      "(<class '__main__.TutorM'>, <class '__main__.TeacherMixin'>, <class '__main__.StudentMixin'>, <class '__main__.Person'>, <class 'object'>)\n",
      "{}\n",
      "{'__module__': '__main__', '__doc__': None}\n"
     ]
    }
   ],
   "source": [
    "# Mixin的例子\n",
    "class Person():\n",
    "    name = \"zhouxiao\"\n",
    "    age = 18\n",
    "    def eat(self):\n",
    "        print(\"Eat\")\n",
    "    def drink(self):\n",
    "        print(\"Drink\")\n",
    "    def sleep(self):\n",
    "        print(\"Sleeping\")\n",
    "\n",
    "class Teacher(Person):\n",
    "    def work(self):\n",
    "        print(\"Work\")\n",
    "        \n",
    "class Student(Person):\n",
    "    def study(self):\n",
    "        print(\"Study\")\n",
    "        \n",
    "class Tutor(Teacher,Student):\n",
    "    pass\n",
    "\n",
    "t = Tutor()\n",
    "print(Tutor.__mro__)\n",
    "print(t.__dict__)\n",
    "print(Tutor.__dict__)\n",
    "\n",
    "\n",
    "\n",
    "\n",
    "print(\"*\"*50)\n",
    "\n",
    "\n",
    "\n",
    "# 第二种,用Mixin\n",
    "\n",
    "class TeacherMixin():\n",
    "    def work(self):\n",
    "        print(\"Work\")\n",
    "\n",
    "        \n",
    "class StudentMixin():\n",
    "    def study(self):\n",
    "        print(\"Study\")\n",
    "\n",
    "class TutorM(TeacherMixin,StudentMixin,Person):\n",
    "    pass\n",
    "\n",
    "tt = TutorM()\n",
    "print(TutorM.__mro__)\n",
    "print(tt.__dict__)\n",
    "print(TutorM.__dict__)"
   ]
  },
  {
   "cell_type": "code",
   "execution_count": 33,
   "metadata": {},
   "outputs": [
    {
     "name": "stdout",
     "output_type": "stream",
     "text": [
      "(<class '__main__.TutorM'>, <class '__main__.TeacherMixin'>, <class '__main__.StudentMixin'>, <class '__main__.Person'>, <class 'object'>)\n",
      "{}\n",
      "{'__module__': '__main__', '__doc__': None}\n"
     ]
    }
   ],
   "source": [
    "class Person():\n",
    "    name = \"zhouxiao\"\n",
    "    age = 18\n",
    "    def eat(self):\n",
    "        print(\"Eat\")\n",
    "    def drink(self):\n",
    "        print(\"Drink\")\n",
    "    def sleep(self):\n",
    "        print(\"Sleeping\")\n",
    "\n",
    "class Teacher(Person):\n",
    "    def work(self):\n",
    "        print(\"Work\")\n",
    "        \n",
    "class Student(Person):\n",
    "    def study(self):\n",
    "        print(\"Study\")\n",
    "\n",
    "class TeacherMixin():\n",
    "    def work(self):\n",
    "        print(\"Work\")\n",
    "\n",
    "        \n",
    "class StudentMixin():\n",
    "    def study(self):\n",
    "        print(\"Study\")\n",
    "\n",
    "class TutorM(TeacherMixin,StudentMixin,Person):\n",
    "    pass\n",
    "\n",
    "tt = TutorM()\n",
    "print(TutorM.__mro__)\n",
    "print(tt.__dict__)\n",
    "print(TutorM.__dict__)"
   ]
  },
  {
   "cell_type": "markdown",
   "metadata": {},
   "source": [
    "# 4、类相关函数\n",
    "\n",
    "\n"
   ]
  },
  {
   "cell_type": "code",
   "execution_count": 40,
   "metadata": {},
   "outputs": [
    {
     "name": "stdout",
     "output_type": "stream",
     "text": [
      "True\n",
      "False\n",
      "False\n",
      "True\n"
     ]
    }
   ],
   "source": [
    "# issubclass:检测一个类是否是另一个类的子类\n",
    "    \n",
    "class A():\n",
    "    pass\n",
    "class B(A):\n",
    "    pass\n",
    "class C():\n",
    "    pass\n",
    "print(issubclass(B,A)) # True  \n",
    "print(issubclass(A,B))\n",
    "print(issubclass(C,A)) # False\n",
    "print(issubclass(C,object)) # True,在python中，所有的类都是object的子类"
   ]
  },
  {
   "cell_type": "code",
   "execution_count": 41,
   "metadata": {},
   "outputs": [
    {
     "name": "stdout",
     "output_type": "stream",
     "text": [
      "True\n",
      "False\n"
     ]
    }
   ],
   "source": [
    "# isinstance:检测一个对象是否是一个类的实例\n",
    "\n",
    "\n",
    "class A():\n",
    "    pass\n",
    "a = A()\n",
    "print(isinstance(a,A))\n",
    "print(isinstance(A,A))\n",
    "\n",
    "\n"
   ]
  },
  {
   "cell_type": "code",
   "execution_count": 43,
   "metadata": {},
   "outputs": [
    {
     "name": "stdout",
     "output_type": "stream",
     "text": [
      "True\n",
      "False\n"
     ]
    }
   ],
   "source": [
    "# hasattr:检测一个对象是否有成员xxx\n",
    "\n",
    "\n",
    "class A():\n",
    "    name = \"NoNname\"\n",
    "a = A()\n",
    "print(hasattr(a,\"name\"))\n",
    "print(hasattr(a,\"age\"))\n",
    "\n"
   ]
  },
  {
   "cell_type": "code",
   "execution_count": 48,
   "metadata": {},
   "outputs": [
    {
     "data": {
      "text/plain": [
       "['__class__',\n",
       " '__delattr__',\n",
       " '__dict__',\n",
       " '__dir__',\n",
       " '__doc__',\n",
       " '__eq__',\n",
       " '__format__',\n",
       " '__ge__',\n",
       " '__getattribute__',\n",
       " '__gt__',\n",
       " '__hash__',\n",
       " '__init__',\n",
       " '__init_subclass__',\n",
       " '__le__',\n",
       " '__lt__',\n",
       " '__module__',\n",
       " '__ne__',\n",
       " '__new__',\n",
       " '__reduce__',\n",
       " '__reduce_ex__',\n",
       " '__repr__',\n",
       " '__setattr__',\n",
       " '__sizeof__',\n",
       " '__str__',\n",
       " '__subclasshook__',\n",
       " '__weakref__']"
      ]
     },
     "execution_count": 48,
     "metadata": {},
     "output_type": "execute_result"
    }
   ],
   "source": [
    "# dir:获取对象的成员列表\n",
    "#例子：\n",
    "\n",
    "class A():\n",
    "    pass\n",
    "\n",
    "a = A()\n",
    "dir(a)\n",
    "\n",
    "\n",
    "\n",
    "\n"
   ]
  },
  {
   "cell_type": "code",
   "execution_count": 47,
   "metadata": {},
   "outputs": [
    {
     "data": {
      "text/plain": [
       "['__class__',\n",
       " '__delattr__',\n",
       " '__dict__',\n",
       " '__dir__',\n",
       " '__doc__',\n",
       " '__eq__',\n",
       " '__format__',\n",
       " '__ge__',\n",
       " '__getattribute__',\n",
       " '__gt__',\n",
       " '__hash__',\n",
       " '__init__',\n",
       " '__init_subclass__',\n",
       " '__le__',\n",
       " '__lt__',\n",
       " '__module__',\n",
       " '__ne__',\n",
       " '__new__',\n",
       " '__reduce__',\n",
       " '__reduce_ex__',\n",
       " '__repr__',\n",
       " '__setattr__',\n",
       " '__sizeof__',\n",
       " '__str__',\n",
       " '__subclasshook__',\n",
       " '__weakref__']"
      ]
     },
     "execution_count": 47,
     "metadata": {},
     "output_type": "execute_result"
    }
   ],
   "source": [
    "class A():\n",
    "    pass\n",
    "\n",
    "dir(A)"
   ]
  },
  {
   "cell_type": "code",
   "execution_count": null,
   "metadata": {},
   "outputs": [],
   "source": []
  },
  {
   "cell_type": "code",
   "execution_count": null,
   "metadata": {},
   "outputs": [],
   "source": []
  },
  {
   "cell_type": "code",
   "execution_count": null,
   "metadata": {},
   "outputs": [],
   "source": []
  }
 ],
 "metadata": {
  "kernelspec": {
   "display_name": "Python 3",
   "language": "python",
   "name": "python3"
  },
  "language_info": {
   "codemirror_mode": {
    "name": "ipython",
    "version": 3
   },
   "file_extension": ".py",
   "mimetype": "text/x-python",
   "name": "python",
   "nbconvert_exporter": "python",
   "pygments_lexer": "ipython3",
   "version": "3.7.0"
  }
 },
 "nbformat": 4,
 "nbformat_minor": 2
}
