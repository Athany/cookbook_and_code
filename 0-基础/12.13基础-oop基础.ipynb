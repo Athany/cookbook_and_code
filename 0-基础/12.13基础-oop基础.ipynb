{
 "cells": [
  {
   "cell_type": "code",
   "execution_count": 5,
   "metadata": {},
   "outputs": [
    {
     "name": "stdout",
     "output_type": "stream",
     "text": [
      "dana\n"
     ]
    }
   ],
   "source": [
    "class Student():\n",
    "    name = \"dana\"\n",
    "    age = 18\n",
    "    \n",
    "Student.__dict__\n",
    "\n",
    "# 实例化\n",
    "yueyue = Student()\n",
    "yueyue.__dict__\n",
    "print(yueyue.name)\n"
   ]
  },
  {
   "cell_type": "code",
   "execution_count": 10,
   "metadata": {},
   "outputs": [
    {
     "name": "stdout",
     "output_type": "stream",
     "text": [
      "dana\n",
      "18\n",
      "******************************\n",
      "2614750874176\n",
      "140705755689248\n",
      "******************************\n",
      "dana\n",
      "18\n",
      "2614750874176\n",
      "140705755689248\n"
     ]
    }
   ],
   "source": [
    "class A():\n",
    "    name = \"dana\"\n",
    "    age = 18\n",
    "    \n",
    "# 注意say的写法，参数有一个self\n",
    "    def say(self):\n",
    "        self.name = \"aaaa\"\n",
    "        self.age = 200\n",
    "        \n",
    "# 此案例说明\n",
    "# 类实例的属性和其对象的实例的属性在不对对象的实例赋值的前提下指向同一个变量\n",
    "# 此时A称为类实例\n",
    "print(A.name)    \n",
    "print(A.age)\n",
    "\n",
    "print(\"*\"*30)\n",
    "\n",
    "# id可以鉴别一个变量和另一个变量是否为同一变量\n",
    "print(id(A.name))\n",
    "print(id(A.age))\n",
    "\n",
    "print(\"*\"*30)\n",
    "\n",
    "a = A()\n",
    "\n",
    "print(a.name)    \n",
    "print(a.age)\n",
    "print(id(a.name))\n",
    "print(id(a.age))"
   ]
  },
  {
   "cell_type": "code",
   "execution_count": 13,
   "metadata": {},
   "outputs": [
    {
     "name": "stdout",
     "output_type": "stream",
     "text": [
      "dana\n",
      "18\n",
      "******************************\n",
      "2614750874176\n",
      "140705755689248\n",
      "******************************\n",
      "{'__module__': '__main__', 'name': 'dana', 'age': 18, 'say': <function A.say at 0x00000260CB45DEA0>, '__dict__': <attribute '__dict__' of 'A' objects>, '__weakref__': <attribute '__weakref__' of 'A' objects>, '__doc__': None}\n",
      "{}\n",
      "{'name': 'youna', 'age': 16}\n",
      "youna\n",
      "16\n",
      "2614750571016\n",
      "140705755689184\n"
     ]
    }
   ],
   "source": [
    "# 此时A称为类实例\n",
    "print(A.name)    \n",
    "print(A.age)\n",
    "\n",
    "print(\"*\"*30)\n",
    "\n",
    "# id可以鉴别一个变量和另一个变量是否为同一变量\n",
    "print(id(A.name))\n",
    "print(id(A.age))\n",
    "\n",
    "print(\"*\"*30)\n",
    "\n",
    "a = A()\n",
    "print(A.__dict__)\n",
    "print(a.__dict__)\n",
    "\n",
    "a.name = \"youna\"\n",
    "a.age = 16\n",
    "print(a.__dict__)\n",
    "\n",
    "print(a.name)    \n",
    "print(a.age)\n",
    "print(id(a.name))\n",
    "print(id(a.age))"
   ]
  },
  {
   "cell_type": "code",
   "execution_count": 16,
   "metadata": {},
   "outputs": [
    {
     "name": "stdout",
     "output_type": "stream",
     "text": [
      "My name is aaaa\n",
      "My age is 200\n"
     ]
    }
   ],
   "source": [
    "class Student():\n",
    "    name = \"dana\"\n",
    "    age = 18\n",
    "    \n",
    "# 注意say的写法，参数有一个self\n",
    "    def say(self):\n",
    "        self.name = \"aaaa\"\n",
    "        self.age = 200\n",
    "        print(\"My name is {0}\".format(self.name))\n",
    "        print(\"My age is {0}\".format(self.age))\n",
    "        \n",
    "        \n",
    "yueyue = Student()\n",
    "yueyue.say()"
   ]
  },
  {
   "cell_type": "code",
   "execution_count": 7,
   "metadata": {},
   "outputs": [
    {
     "name": "stdout",
     "output_type": "stream",
     "text": [
      "My name is aa\n",
      "My age is 16\n"
     ]
    }
   ],
   "source": [
    "class Student():\n",
    "    name = \"dana\"\n",
    "    age = 18\n",
    "\n",
    "    def sayAgain(s):\n",
    "\n",
    "        s.name = \"aa\"\n",
    "        s.age = 16\n",
    "        print(\"My name is {0}\".format(s.name))\n",
    "        print(\"My age is {0}\".format(s.age))\n",
    "yueyue = Student()        \n",
    "yueyue.sayAgain()        "
   ]
  },
  {
   "cell_type": "code",
   "execution_count": 9,
   "metadata": {},
   "outputs": [
    {
     "name": "stdout",
     "output_type": "stream",
     "text": [
      "My name is cc\n",
      "My age is 15\n"
     ]
    }
   ],
   "source": [
    "class Student():\n",
    "    name = \"dana\"\n",
    "    age = 18\n",
    "\n",
    "    def sayAgain(self):\n",
    "\n",
    "        sayAgain.name = \"cc\"\n",
    "        sayAgain.age = 15\n",
    "        print(\"My name is {0}\".format(sayAgain.name))\n",
    "        print(\"My age is {0}\".format(sayAgain.age))\n",
    "yueyue = Student()        \n",
    "yueyue.sayAgain() "
   ]
  },
  {
   "cell_type": "code",
   "execution_count": 32,
   "metadata": {},
   "outputs": [
    {
     "name": "stdout",
     "output_type": "stream",
     "text": [
      "My name is dana\n",
      "My age is 18\n"
     ]
    }
   ],
   "source": [
    "class Student():\n",
    "    name = \"dana\"\n",
    "    age = 18\n",
    "\n",
    "    def sayAgainaa(a):\n",
    "\n",
    "        print(\"My name is {0}\".format(a.name))\n",
    "        print(\"My age is {0}\".format(a.age))\n",
    "yueyue = Student()        \n",
    "yueyue.sayAgainaa()    "
   ]
  },
  {
   "cell_type": "code",
   "execution_count": 47,
   "metadata": {},
   "outputs": [
    {
     "name": "stdout",
     "output_type": "stream",
     "text": [
      "My name is dd\n",
      "My age is 19\n",
      "dana\n",
      "19\n",
      "hello\n"
     ]
    }
   ],
   "source": [
    "\n",
    "class Teacher():\n",
    "    name = \"dana\"\n",
    "    age = 19\n",
    "\n",
    "    def say(self):\n",
    "\n",
    "        self.name = \"dd\"\n",
    "        self.age = 14\n",
    "        print(\"My name is {0}\".format(self.name))\n",
    "        print(\"My age is {0}\".format(__class__.age))\n",
    "        \n",
    "    def say1():\n",
    "        print(__class__.name)\n",
    "        print(__class__.age)\n",
    "        print(\"hello\")  \n",
    "        \n",
    "        \n",
    "t = Teacher()        \n",
    "t.say() \n",
    "\n",
    "  \n",
    "\n",
    "# 调用绑定类函数使用类名\n",
    "Teacher.say1()"
   ]
  },
  {
   "cell_type": "code",
   "execution_count": 15,
   "metadata": {},
   "outputs": [
    {
     "name": "stdout",
     "output_type": "stream",
     "text": [
      "aaa\n",
      "200\n",
      "aaa\n",
      "200\n",
      "周潇\n",
      "18\n",
      "bbb\n",
      "90\n"
     ]
    }
   ],
   "source": [
    "# 关于self的案例\n",
    "class A():\n",
    "    name = \"周潇\"\n",
    "    age = 18\n",
    "    \n",
    "    def __init__(self):                                                                       # 前后都是双下划线\n",
    "        self.name = \"aaa\"\n",
    "        self.age = 200\n",
    "        \n",
    "    def say(self):\n",
    "        print(self.name)\n",
    "        print(self.age)\n",
    "        \n",
    "class B():\n",
    "    name = \"bbb\"\n",
    "    age = 90\n",
    "\n",
    "a = A()\n",
    "a.say()\n",
    "# A.say()# 报错\n",
    "A.say(a)# 此时，self被a替换\n",
    "A.say(A)# 此时，把A作为参数传入\n",
    "\n",
    "A.say(B)# 此时，传入额是实例B，因为B具有name和age属性，所以不会报错\n",
    "# 以上代码，利用了鸭子模型（有翅膀，会呱呱叫，会游泳，就判定为是鸭子）\n"
   ]
  },
  {
   "cell_type": "code",
   "execution_count": 61,
   "metadata": {},
   "outputs": [
    {
     "name": "stdout",
     "output_type": "stream",
     "text": [
      "周潇\n",
      "18\n"
     ]
    }
   ],
   "source": [
    "# 私有变量案例\n",
    "\n",
    "class Person():\n",
    "# name 是共有成员\n",
    "    name = \"周潇\"\n",
    "# __age 是私有成员\n",
    "    __age = 18\n",
    "    \n",
    "p = Person()\n",
    "print(p.name)\n",
    "\n",
    "# print(p.__age)  报错 \n",
    "\n",
    "\n",
    "# 通过以下方法可以访问到私有成员\n",
    "print(p._Person__age)\n"
   ]
  },
  {
   "cell_type": "code",
   "execution_count": 56,
   "metadata": {},
   "outputs": [
    {
     "name": "stdout",
     "output_type": "stream",
     "text": [
      "{'__module__': '__main__', 'name': '周潇', '_Person__age': 18, '__dict__': <attribute '__dict__' of 'Person' objects>, '__weakref__': <attribute '__weakref__' of 'Person' objects>, '__doc__': None}\n"
     ]
    }
   ],
   "source": [
    "# name mingling技术\n",
    "\n",
    "print(Person.__dict__)\n",
    "#注意__age前面加了个_Person变成Person的私有成员了"
   ]
  },
  {
   "cell_type": "code",
   "execution_count": null,
   "metadata": {},
   "outputs": [],
   "source": []
  },
  {
   "cell_type": "code",
   "execution_count": null,
   "metadata": {},
   "outputs": [],
   "source": []
  }
 ],
 "metadata": {
  "kernelspec": {
   "display_name": "Python 3",
   "language": "python",
   "name": "python3"
  },
  "language_info": {
   "codemirror_mode": {
    "name": "ipython",
    "version": 3
   },
   "file_extension": ".py",
   "mimetype": "text/x-python",
   "name": "python",
   "nbconvert_exporter": "python",
   "pygments_lexer": "ipython3",
   "version": "3.7.0"
  }
 },
 "nbformat": 4,
 "nbformat_minor": 2
}
