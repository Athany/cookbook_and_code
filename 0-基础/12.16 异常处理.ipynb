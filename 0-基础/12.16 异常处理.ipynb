{
 "cells": [
  {
   "cell_type": "markdown",
   "metadata": {},
   "source": [
    "# 异常\n",
    "    ·广义上的错误分为错误和异常\n",
    "    ·错误指的是可以人为避免的\n",
    "    ·异常是指在语法逻辑正确运行的前提下，出现的问题\n",
    "    ·在python中，异常是一个类，可以处理和使用"
   ]
  },
  {
   "cell_type": "markdown",
   "metadata": {},
   "source": [
    "# 异常的分类\n",
    "\n",
    "    BaseException\t所有异常的基类\n",
    "    SystemExit\t解释器请求退出\n",
    "    KeyboardInterrupt\t用户中断执行(通常是输入Ctrl+C)\n",
    "    Exception\t常规错误的基类\n",
    "    StopIteration\t迭代器没有更多的值\n",
    "    GeneratorExit\t生成器(generator)发生异常来通知退出\n",
    "    StandardError\t所有的内建标准异常的基类\n",
    "    ArithmeticError\t所有数值计算错误的基类\n",
    "    FloatingPointError\t浮点计算错误\n",
    "    OverflowError\t数值运算超出最大限制\n",
    "    ZeroDivisionError\t除(或取模)零 (所有数据类型)\n",
    "    AssertionError\t断言语句失败\n",
    "    AttributeError\t对象没有这个属性\n",
    "    EOFError\t没有内建输入,到达EOF 标记\n",
    "    EnvironmentError\t操作系统错误的基类\n",
    "    IOError\t输入/输出操作失败\n",
    "    OSError\t操作系统错误\n",
    "    WindowsError\t系统调用失败\n",
    "    ImportError\t导入模块/对象失败\n",
    "    LookupError\t无效数据查询的基类\n",
    "    IndexError\t序列中没有此索引(index)\n",
    "    KeyError\t映射中没有这个键\n",
    "    MemoryError\t内存溢出错误(对于Python 解释器不是致命的)\n",
    "    NameError\t未声明/初始化对象 (没有属性)\n",
    "    UnboundLocalError\t访问未初始化的本地变量\n",
    "    ReferenceError\t弱引用(Weak reference)试图访问已经垃圾回收了的对象\n",
    "    RuntimeError\t一般的运行时错误\n",
    "    NotImplementedError\t尚未实现的方法\n",
    "    SyntaxError\tPython 语法错误\n",
    "    IndentationError\t缩进错误\n",
    "    TabError\tTab 和空格混用\n",
    "    SystemError\t一般的解释器系统错误\n",
    "    TypeError\t对类型无效的操作\n",
    "    ValueError\t传入无效的参数\n",
    "    UnicodeError\tUnicode 相关的错误\n",
    "    UnicodeDecodeError\tUnicode 解码时的错误\n",
    "    UnicodeEncodeError\tUnicode 编码时错误\n",
    "    UnicodeTranslateError\tUnicode 转换时错误\n",
    "    Warning\t警告的基类\n",
    "    DeprecationWarning\t关于被弃用的特征的警告\n",
    "    FutureWarning\t关于构造将来语义会有改变的警告\n",
    "    OverflowWarning\t旧的关于自动提升为长整型(long)的警告\n",
    "    PendingDeprecationWarning\t关于特性将会被废弃的警告\n",
    "    RuntimeWarning\t可疑的运行时行为(runtime behavior)的警告\n",
    "    SyntaxWarning\t可疑的语法的警告\n",
    "    UserWarning\t用户代码生成的警告\n",
    "\n",
    "    以上内容引用自“https://www.cnblogs.com/zln1021/p/6106185.html”，在此表示感谢\n",
    "\n",
    " "
   ]
  },
  {
   "cell_type": "code",
   "execution_count": 5,
   "metadata": {},
   "outputs": [
    {
     "name": "stdout",
     "output_type": "stream",
     "text": [
      "请输入您的号码：0\n"
     ]
    },
    {
     "ename": "ZeroDivisionError",
     "evalue": "division by zero",
     "output_type": "error",
     "traceback": [
      "\u001b[1;31m---------------------------------------------------------------------------\u001b[0m",
      "\u001b[1;31mZeroDivisionError\u001b[0m                         Traceback (most recent call last)",
      "\u001b[1;32m<ipython-input-5-448fd2981121>\u001b[0m in \u001b[0;36m<module>\u001b[1;34m()\u001b[0m\n\u001b[0;32m      4\u001b[0m \u001b[0mnum\u001b[0m \u001b[1;33m=\u001b[0m \u001b[0mint\u001b[0m\u001b[1;33m(\u001b[0m\u001b[0minput\u001b[0m\u001b[1;33m(\u001b[0m\u001b[1;34m\"请输入您的号码：\"\u001b[0m\u001b[1;33m)\u001b[0m\u001b[1;33m)\u001b[0m\u001b[1;33m\u001b[0m\u001b[0m\n\u001b[0;32m      5\u001b[0m \u001b[1;33m\u001b[0m\u001b[0m\n\u001b[1;32m----> 6\u001b[1;33m \u001b[0ma\u001b[0m \u001b[1;33m=\u001b[0m \u001b[1;36m100\u001b[0m\u001b[1;33m/\u001b[0m\u001b[0mnum\u001b[0m\u001b[1;33m\u001b[0m\u001b[0m\n\u001b[0m\u001b[0;32m      7\u001b[0m \u001b[0mprint\u001b[0m\u001b[1;33m(\u001b[0m\u001b[1;34m\"您的号码被100除以以后的结果为：{0}\"\u001b[0m\u001b[1;33m.\u001b[0m\u001b[0mformat\u001b[0m\u001b[1;33m(\u001b[0m\u001b[0ma\u001b[0m\u001b[1;33m)\u001b[0m\u001b[1;33m)\u001b[0m\u001b[1;33m\u001b[0m\u001b[0m\n",
      "\u001b[1;31mZeroDivisionError\u001b[0m: division by zero"
     ]
    }
   ],
   "source": [
    "l = [1,2,3,4,5,6]\n",
    "\n",
    "# 常常犯的除零错误\n",
    "num = int(input(\"请输入您的号码：\"))\n",
    "\n",
    "a = 100/num\n",
    "print(\"您的号码被100除以以后的结果为：{0}\".format(a))                      "
   ]
  },
  {
   "cell_type": "code",
   "execution_count": null,
   "metadata": {},
   "outputs": [],
   "source": [
    "# 异常处理\n",
    "    ·不能保证程序永远正确运行\n",
    "    ·但是，必须保证程序的问题在最坏的情况下得到妥善处理\n",
    "    ·python的异常处理模块全部语法为：\n",
    "    \n",
    "            try:\n",
    "                尝试实现某个操作\n",
    "                如果没出现异常，任务就可以完成\n",
    "                如果出现异常，将异常从当前代码块扔出去尝试解决异常\n",
    "                \n",
    "            except 异常类型1:\n",
    "                解决方案1：用于尝试在此处处理异常解决问题\n",
    "                \n",
    "            except 异常类型2:\n",
    "                解决方案2：用于尝试在此处处理异常解决问题\n",
    "                \n",
    "            except(异常类型1,异常类型2...):\n",
    "                解决方案：针对多个异常使用相同的处理方式\n",
    "                \n",
    "            except:\n",
    "                解决方案：所有异常的解决方案\n",
    "                \n",
    "            else:\n",
    "                如果没有出现任何异常，将会执行此处代码\n",
    "                \n",
    "            finally:\n",
    "                管你有没有异常都要执行的代码\n",
    "                \n",
    "                \n",
    "                \n",
    "·流程 \n",
    "    1、执行try下面的语句\n",
    "    2、如果出现异常，则在except语句里查找对应异常进行处理\n",
    "    3、如果没有出现异常，则执行else语句内容\n",
    "    4、最后，不管是否出现异常，都要执行finally语句\n",
    "·注意：除except（至少含有一个）以外，其他的如：else或者finally都是可选的"
   ]
  },
  {
   "cell_type": "code",
   "execution_count": 18,
   "metadata": {},
   "outputs": [
    {
     "name": "stdout",
     "output_type": "stream",
     "text": [
      "请输入您的号码：2\n",
      "您的号码被100除以以后的结果为：50.0。\n"
     ]
    }
   ],
   "source": [
    "# 简单的异常案例\n",
    "\n",
    "\n",
    "try:\n",
    "    num = int(input(\"请输入您的号码：\"))\n",
    "    rst = 100/num\n",
    "    print(\"您的号码被100除以以后的结果为：{0}。\".format(rst))\n",
    "    \n",
    "except:\n",
    "    print(\"你输入的是个啥玩意啊？要输入非零的数字！\")\n",
    "    \n",
    "    \n",
    "    # exit是退出程序的意思\n",
    "    exit()\n",
    "    "
   ]
  },
  {
   "cell_type": "code",
   "execution_count": 19,
   "metadata": {},
   "outputs": [
    {
     "name": "stdout",
     "output_type": "stream",
     "text": [
      "请输入您的号码：4\n",
      "您的号码被100除以以后的结果为：25.0。\n"
     ]
    }
   ],
   "source": [
    "# 简单的异常案例 2\n",
    "# 给出提示信息\n",
    "\n",
    "try:\n",
    "    num = int(input(\"请输入您的号码：\"))\n",
    "    rst = 100/num\n",
    "    print(\"您的号码被100除以以后的结果为：{0}。\".format(rst))\n",
    "    \n",
    "    \n",
    "# 捕获异常后，把这个异常实例化，出错信息会在实例化里面    \n",
    "# 注意以下写法\n",
    "# 以下语句是捕获ZeroDivisionError异常并实例化实例e\n",
    "except ZeroDivasionError as e:\n",
    "    print(\"你输入的是个啥玩意啊？要输入非零的数字！\")\n",
    "    print(e)                                                                         # 为什么我们可以直接打印实例e，此时实例e实现了哪个函数？\n",
    "    \n",
    "    # exit是退出程序的意思\n",
    "    exit()"
   ]
  },
  {
   "cell_type": "code",
   "execution_count": 21,
   "metadata": {},
   "outputs": [
    {
     "name": "stdout",
     "output_type": "stream",
     "text": [
      "21,wozenmezhemeshuai,zsj\n"
     ]
    }
   ],
   "source": [
    "# __str__()函数的作用：\n",
    "#    ·打印一个实例化对象时，打印的其实时一个对象的地址。而通过__str__()函数就可以帮助我们打印对象中具体的属性值，或者你想得到的东西。\n",
    "#   ·因为再python中调用print()打印实例化对象时会调用__str__()如果__str__()中有返回值，就会打印其中的返回值。\n",
    "\n",
    "# demo：\n",
    "class ss:\n",
    "    def __init__(self,age,name):\n",
    "        self.age = age\n",
    "        self.name = name\n",
    "    def __str__(self):\n",
    "        return str(self.age)+\",wozenmezhemeshuai,\"+self.name\n",
    "\n",
    "s = ss(21,\"zsj\")\n",
    "print(s)\n"
   ]
  },
  {
   "cell_type": "code",
   "execution_count": 26,
   "metadata": {},
   "outputs": [
    {
     "name": "stdout",
     "output_type": "stream",
     "text": [
      "请输入您的号码：ee\n",
      "我也不知道哪儿错了，请看下面错误代码：\n",
      "invalid literal for int() with base 10: 'ee'\n",
      "不管有没有错，我都会被执行\n",
      "这被执行了\n"
     ]
    }
   ],
   "source": [
    "# 简单的异常案例 3\n",
    "# 给出提示信息\n",
    "\n",
    "try:\n",
    "    num = int(input(\"请输入您的号码：\"))\n",
    "    rst = 100/num\n",
    "    print(\"您的号码被100除以以后的结果为：{0}。\".format(rst))\n",
    "    \n",
    "    \n",
    "# 如果是多种error的情况\n",
    "# 需要把越具体的错误，越往前放\n",
    "# 在异常类继承关系中，越是子类的异常越要往前放\n",
    "# 越是父类的异常，越要往后放\n",
    "\n",
    "\n",
    "except ZeroDivisionError as a:\n",
    "    print(\"需要输入非零数字\")\n",
    "    print(a)\n",
    "    \n",
    "except NameError as b:\n",
    "    print(\"名称错了\")\n",
    "    print(b)\n",
    "    \n",
    "except AttributeError as c:\n",
    "    print(\"属性有问题\")\n",
    "    print(c)\n",
    "\n",
    "# 所有异常都是继承自Exception\n",
    "# 如果写上下面这句话，任何异常都会拦截住，因为所有的异常都继承于Exception\n",
    "# 而且，下面这句话一定是最后一个except用于排除未知错误\n",
    "except Exception as d:\n",
    "    print(\"我也不知道哪儿错了，请看下面错误代码：\")\n",
    "    print(d)\n",
    "    \n",
    "    \n",
    "# 下面这个except没有意义了\n",
    "\n",
    "except ValueError as e:\n",
    "    print(e)\n",
    "    \n",
    "    \n",
    "    \n",
    "else:\n",
    "    print(\"如果没有错，我会被执行\")\n",
    "    \n",
    "finally:\n",
    "    print(\"不管有没有错，我都会被执行\")\n",
    "    \n",
    "print(\"这被执行了\")"
   ]
  },
  {
   "cell_type": "markdown",
   "metadata": {},
   "source": [
    "# 用户手动引发异常\n",
    "    ·当某些情况下，用户希望自己引发一个异常的时候，可以使用\n",
    "    ·raise 关键字引发异常\n"
   ]
  },
  {
   "cell_type": "code",
   "execution_count": 27,
   "metadata": {},
   "outputs": [
    {
     "name": "stdout",
     "output_type": "stream",
     "text": [
      "i love zhouxiao\n",
      "2.34574\n",
      "有错2\n",
      "必须被执行的语句\n"
     ]
    }
   ],
   "source": [
    "# 案例-1\n",
    "try:\n",
    "    print(\"i love zhouxiao\")\n",
    "    print(2.34574)\n",
    "    # 手动引发一个异常\n",
    "    # 注意语法： raise ErrorClassName\n",
    "    raise ValueError\n",
    "    print(\"还没完呀\")\n",
    "except NameError as e:\n",
    "    print(\"有错1\")\n",
    "except ValueError as e:\n",
    "    print(\"有错2\")\n",
    "except Exception as e:\n",
    "    print(\"有错3\")\n",
    "finally:\n",
    "    print(\"必须被执行的语句\")"
   ]
  },
  {
   "cell_type": "code",
   "execution_count": 46,
   "metadata": {},
   "outputs": [
    {
     "name": "stdout",
     "output_type": "stream",
     "text": [
      "i love zhouxiao\n",
      "3.141592653\n",
      "自定义的异常\n",
      "必须被执行的语句\n"
     ]
    }
   ],
   "source": [
    "# 案例-2\n",
    "# 自己定义异常\n",
    "# 需要注意：自定义异常必须是系统异常的子类\n",
    "\n",
    "class ZsjValueError(ValueError):\n",
    "    pass\n",
    "\n",
    "try:\n",
    "    print(\"i love zhouxiao\")\n",
    "    print(3.141592653)\n",
    "    # 手动引发一个异常\n",
    "    # 注意语法： raise ErrorClassName\n",
    "    raise ZsjValueError\n",
    "    print(\"还没完呀\")\n",
    "    \n",
    "except NameError as e:\n",
    "    print(\"有错1\")\n",
    "    \n",
    "except ZsjValueError as e:\n",
    "    print(\"自定义的异常\")\n",
    "\n",
    "except ValueError as e:\n",
    "    print(\"有错2\")\n",
    "    \n",
    "except Exception as e:\n",
    "    print(\"有错3\")\n",
    "    \n",
    "finally:\n",
    "    print(\"必须被执行的语句\")\n",
    "    "
   ]
  },
  {
   "cell_type": "code",
   "execution_count": 43,
   "metadata": {},
   "outputs": [
    {
     "name": "stdout",
     "output_type": "stream",
     "text": [
      "please input your number:p\n",
      "错误代码:invalid literal for int() with base 10: 'p'\n",
      "必须被执行的语句\n"
     ]
    }
   ],
   "source": [
    "# else语句案例\n",
    "try: \n",
    "    num = int(input(\"please input your number:\"))\n",
    "    rst = 100/num\n",
    "    print(\"计算结果是{0}\".format(rst))\n",
    "except Exception as e:\n",
    "    print(\"错误代码:\"+ str(e))\n",
    "else:\n",
    "    print(\"没有错误\")\n",
    "finally:\n",
    "    print(\"必须被执行的语句\")"
   ]
  },
  {
   "cell_type": "code",
   "execution_count": null,
   "metadata": {},
   "outputs": [],
   "source": [
    "# 关于自定义异常\n",
    "    ·只要是raise异常，则推荐自定义异常\n",
    "    ·在自定义异常的时候。一般包含以下内容：\n",
    "        ·自定义发生异常的异常代码\n",
    "        ·自定义发生异常后的问题提示\n",
    "        ·自定义发生异常的行数\n",
    "    ·最终目的是，一旦发生异常，方便迅速找到错误的位置现场"
   ]
  },
  {
   "cell_type": "code",
   "execution_count": null,
   "metadata": {},
   "outputs": [],
   "source": []
  },
  {
   "cell_type": "code",
   "execution_count": null,
   "metadata": {},
   "outputs": [],
   "source": []
  },
  {
   "cell_type": "code",
   "execution_count": null,
   "metadata": {},
   "outputs": [],
   "source": []
  }
 ],
 "metadata": {
  "kernelspec": {
   "display_name": "Python 3",
   "language": "python",
   "name": "python3"
  },
  "language_info": {
   "codemirror_mode": {
    "name": "ipython",
    "version": 3
   },
   "file_extension": ".py",
   "mimetype": "text/x-python",
   "name": "python",
   "nbconvert_exporter": "python",
   "pygments_lexer": "ipython3",
   "version": "3.7.0"
  }
 },
 "nbformat": 4,
 "nbformat_minor": 2
}
