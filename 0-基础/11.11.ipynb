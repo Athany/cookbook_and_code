{
 "cells": [
  {
   "cell_type": "code",
   "execution_count": 3,
   "metadata": {},
   "outputs": [
    {
     "name": "stdout",
     "output_type": "stream",
     "text": [
      "hello world\n"
     ]
    }
   ],
   "source": [
    "print('hello world')"
   ]
  },
  {
   "cell_type": "code",
   "execution_count": 7,
   "metadata": {},
   "outputs": [
    {
     "name": "stdout",
     "output_type": "stream",
     "text": [
      "I love ZhouXiao forever.\n"
     ]
    }
   ],
   "source": [
    "print(\"I love ZhouXiao forever.\")#此处省略一万字。"
   ]
  },
  {
   "cell_type": "code",
   "execution_count": 17,
   "metadata": {},
   "outputs": [
    {
     "name": "stdout",
     "output_type": "stream",
     "text": [
      "['False', 'None', 'True', 'and', 'as', 'assert', 'async', 'await', 'break', 'class', 'continue', 'def', 'del', 'elif', 'else', 'except', 'finally', 'for', 'from', 'global', 'if', 'import', 'in', 'is', 'lambda', 'nonlocal', 'not', 'or', 'pass', 'raise', 'return', 'try', 'while', 'with', 'yield']\n"
     ]
    }
   ],
   "source": [
    "import keyword\n",
    "print(keyword.kwlist)"
   ]
  },
  {
   "cell_type": "markdown",
   "metadata": {},
   "source": [
    "## 变量声明\n",
    "\n",
    "  • var_name=var_value\n",
    "  \n",
    "  • var1=var2=var3=var_value\n",
    "  \n",
    "  • var1,var2,var3=v1,v2,v3"
   ]
  },
  {
   "cell_type": "code",
   "execution_count": 21,
   "metadata": {},
   "outputs": [
    {
     "name": "stdout",
     "output_type": "stream",
     "text": [
      "18\n",
      "18\n",
      "18\n",
      "18\n",
      "12\n",
      "21\n",
      "45\n"
     ]
    }
   ],
   "source": [
    "#定义变量age，把18放入变量age中\n",
    "age=18\n",
    "print(age)\n",
    "\n",
    "#给age1，age2，age3放入同一个内容或值\n",
    "age1=age2=age3=18\n",
    "print(age1)\n",
    "print(age2)\n",
    "print(age3)\n",
    "\n",
    "#一行内给多个变量赋值\n",
    "age4,age5,age6=12,21,45\n",
    "print(age4)\n",
    "print(age5)\n",
    "print(age6)"
   ]
  },
  {
   "cell_type": "markdown",
   "metadata": {},
   "source": [
    "## 变量类型\n",
    "\n",
    "·严格意义上讲，python只有一个类型\n",
    "\n",
    "·标准数据一共六种\n",
    "\n",
    "    ·数字类型Number\n",
    "    ·字符串类型str\n",
    "    ·列表list\n",
    "    ·元组tuple\n",
    "    ·字典Dictionary\n",
    "    ·集合set"
   ]
  },
  {
   "cell_type": "markdown",
   "metadata": {},
   "source": [
    "## Number数字类型\n",
    "\n",
    "·数字类型没有大小限制\n",
    "\n",
    "### 整数\n",
    "\n",
    "   ·没有小数部分，表示个数的数字\n",
    "    \n",
    "   ·自然数，0，负自然数\n",
    "\n",
    "   ·整数分进制\n",
    "    \n",
    "    ·二进制\n",
    "        ·计算机常用\n",
    "        ·是计算机唯一能直接理解的数字\n",
    "        ·表示为0b开头的0,1代码\n",
    "        例如0b01101,0b10001\n",
    "    ·八进制\n",
    "        ·不常用\n",
    "        ·以0o开头的包含0-7的数字\n",
    "    ·十进制\n",
    "        ·18,89,178\n",
    "    ·十六进制\n",
    "        ·逢16进1\n",
    "        ·其实是每4位二进制数表示一位16进制数\n",
    "        ·包含0-9，a-f\n",
    "        ·数字上以0x开头表示"
   ]
  },
  {
   "cell_type": "code",
   "execution_count": 16,
   "metadata": {},
   "outputs": [
    {
     "name": "stdout",
     "output_type": "stream",
     "text": [
      "18\n",
      "18\n",
      "18\n",
      "18\n"
     ]
    }
   ],
   "source": [
    "age=18 \n",
    "print(age)\n",
    "\n",
    "age=0b10010\n",
    "print(age)\n",
    "\n",
    "age=0o22\n",
    "print(age)\n",
    "\n",
    "age=0x12\n",
    "print(age)"
   ]
  },
  {
   "cell_type": "markdown",
   "metadata": {},
   "source": [
    "## 浮点数\n",
    "\n",
    "    ·小数\n",
    "    ·计算机里可以表示浮点数可以有条件省略\n",
    "    ·3.1415\n",
    "    ·3.\n",
    "    ·0.5\n",
    "    ·.5\n",
    "    ·科学计数法\n",
    "       ·定义和数学定义一致\n",
    "       ·写法是用e/E后面跟整数表示10的指数\n",
    "       ·176.23==1.7623e2\n",
    "       ·0.876==8.76e-1\n",
    "      \n"
   ]
  },
  {
   "cell_type": "code",
   "execution_count": 28,
   "metadata": {},
   "outputs": [
    {
     "name": "stdout",
     "output_type": "stream",
     "text": [
      "178.34\n",
      "0.2\n",
      "0.6\n"
     ]
    }
   ],
   "source": [
    "height=178.34\n",
    "print(height)\n",
    "\n",
    "shili=0.2\n",
    "print(shili)\n",
    "\n",
    "shili=.6\n",
    "print(shili)"
   ]
  },
  {
   "cell_type": "markdown",
   "metadata": {},
   "source": [
    "### 复数complex\n",
    "\n",
    "   ·定义同数学定义一致\n",
    "   \n",
    "   ·一个由实部和虚部构成的数字\n",
    "   \n",
    "   ·虚部用j/J表示\n",
    "   \n",
    "   ·5+3j\n",
    "    \n",
    "   ·3J\n",
    "\n",
    "   ·（3j）"
   ]
  },
  {
   "cell_type": "markdown",
   "metadata": {},
   "source": [
    "### 布尔值\n",
    "\n",
    "    ·表示真或者假的值\n",
    "    \n",
    "    ·只有两个值True/False，1/0\n",
    "    \n",
    "    ·布尔值可以跟数字直接操作"
   ]
  },
  {
   "cell_type": "code",
   "execution_count": 30,
   "metadata": {},
   "outputs": [
    {
     "name": "stdout",
     "output_type": "stream",
     "text": [
      "19\n"
     ]
    }
   ],
   "source": [
    "#布尔值操作\n",
    "age=18+True\n",
    "print(age)"
   ]
  },
  {
   "cell_type": "markdown",
   "metadata": {},
   "source": [
    "字符串\n",
    "\n",
    "   ·用来表示一串文字信息\n",
    "   ·如何表示\n",
    "       ·单引号\n",
    "       ·双引号\n",
    "       ·三引号（三个单引号或者三个双引号）\n",
    "   ·双单引号交错使用   "
   ]
  },
  {
   "cell_type": "code",
   "execution_count": 5,
   "metadata": {},
   "outputs": [
    {
     "name": "stdout",
     "output_type": "stream",
     "text": [
      "I love Zhouxiao.\n",
      "我爱周潇\n",
      "<a style=\"color:red\">么么哒</a>\n",
      "I love Zhouxiao.\n",
      "    我爱周潇\n",
      "    么么么哒\n",
      "    么么么哒\n"
     ]
    }
   ],
   "source": [
    "love=\"I love Zhouxiao.\"\n",
    "print(love)\n",
    "\n",
    "love=\"我爱周潇\"\n",
    "print(love)\n",
    "\n",
    "#单双引号交错使用的例子\n",
    "#<a style=\"color:red\">么么哒</a>\n",
    "#用引号表示上面字符串\n",
    "html='<a style=\"color:red\">么么哒</a>'\n",
    "print(html)\n",
    "\n",
    "htmls='''I love Zhouxiao.\n",
    "    我爱周潇\n",
    "    么么么哒\n",
    "    么么么哒'''\n",
    "print(htmls)"
   ]
  },
  {
   "cell_type": "code",
   "execution_count": null,
   "metadata": {},
   "outputs": [],
   "source": []
  },
  {
   "cell_type": "code",
   "execution_count": null,
   "metadata": {},
   "outputs": [],
   "source": []
  }
 ],
 "metadata": {
  "kernelspec": {
   "display_name": "Python 3",
   "language": "python",
   "name": "python3"
  },
  "language_info": {
   "codemirror_mode": {
    "name": "ipython",
    "version": 3
   },
   "file_extension": ".py",
   "mimetype": "text/x-python",
   "name": "python",
   "nbconvert_exporter": "python",
   "pygments_lexer": "ipython3",
   "version": "3.7.0"
  }
 },
 "nbformat": 4,
 "nbformat_minor": 2
}
