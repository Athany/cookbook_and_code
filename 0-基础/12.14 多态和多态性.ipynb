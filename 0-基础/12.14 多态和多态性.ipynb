{
 "cells": [
  {
   "cell_type": "markdown",
   "metadata": {},
   "source": [
    "# python基础之类的多态与多态性\n",
    "    ·很多人喜欢将多态与多态性二者混为一谈，然后百思不得其解，其实只要分开看，就会很明朗。"
   ]
  },
  {
   "cell_type": "markdown",
   "metadata": {},
   "source": [
    "## 一 多态：\n",
    "    ·多态指的是一类事物有多种形态，（一个抽象类有多个子类，因而多态的概念依赖于继承）\n",
    "\n",
    " \n",
    "\n",
    "    ·序列类型有多种形态：字符串，列表，元组\n",
    "    ·动物有多种形态：人，狗，猪"
   ]
  },
  {
   "cell_type": "code",
   "execution_count": 9,
   "metadata": {},
   "outputs": [
    {
     "name": "stdout",
     "output_type": "stream",
     "text": [
      "人正在走\n",
      "pig is walking\n",
      "dog is running\n"
     ]
    }
   ],
   "source": [
    "# 多态：同一种事物的多种形态，动物分为人类，猪类（在定义角度）\n",
    "class Animal:\n",
    "    def run(self):\n",
    "        raise AttributeError('子类必须实现这个方法')\n",
    " \n",
    " \n",
    "class People(Animal):\n",
    "    def run(self):\n",
    "        print('人正在走')\n",
    " \n",
    "class Pig(Animal):\n",
    "    def run(self):\n",
    "        print('pig is walking')\n",
    " \n",
    " \n",
    "class Dog(Animal):\n",
    "    def run(self):\n",
    "        print('dog is running')\n",
    " \n",
    "peo1=People()\n",
    "pig1=Pig()\n",
    "d1=Dog()\n",
    " \n",
    "peo1.run()\n",
    "pig1.run()\n",
    "d1.run()"
   ]
  },
  {
   "cell_type": "code",
   "execution_count": 11,
   "metadata": {},
   "outputs": [],
   "source": [
    "import abc\n",
    "class Animal(metaclass=abc.ABCMeta): #同一类事物:动物\n",
    "    @abc.abstractmethod\n",
    "    def talk(self):\n",
    "        pass\n",
    " \n",
    "class People(Animal): #动物的形态之一:人\n",
    "    def talk(self):\n",
    "        print('say hello')\n",
    " \n",
    "class Dog(Animal): #动物的形态之二:狗\n",
    "    def talk(self):\n",
    "        print('say wangwang')\n",
    " \n",
    "class Pig(Animal): #动物的形态之三:猪\n",
    "    def talk(self):\n",
    "        print('say aoao')"
   ]
  },
  {
   "cell_type": "markdown",
   "metadata": {},
   "source": [
    "### 文件有多种形态：文件、文本文件、可执行文件"
   ]
  },
  {
   "cell_type": "code",
   "execution_count": 12,
   "metadata": {},
   "outputs": [],
   "source": [
    "import abc\n",
    "class File(metaclass=abc.ABCMeta): #同一类事物:文件\n",
    "    @abc.abstractmethod\n",
    "    def click(self):\n",
    "        pass\n",
    " \n",
    "class Text(File): #文件的形态之一:文本文件\n",
    "    def click(self):\n",
    "        print('open file')\n",
    " \n",
    "class ExeFile(File): #文件的形态之二:可执行文件\n",
    "    def click(self):\n",
    "        print('execute file')"
   ]
  },
  {
   "cell_type": "markdown",
   "metadata": {},
   "source": [
    "## 二 多态性\n",
    "    ·（1）什么是多态性（注意：多态与多态性是两种概念）\n",
    "\n",
    "    ·多态性是指具有不同功能的函数可以使用相同的函数名，这样就可以用一个函数名调用不同内容的函数。在面向对象方法中一般是这样表述多态性：向不同的对象发送同一条消息，不同的对象在接收时会产生不同的行为（即方法）。也就是说，每个对象可以用自己的方式去响应共同的消息。所谓消息，就是调用函数，不同的行为就是指不同的实现，即执行不同的函数。\n",
    "\n",
    " "
   ]
  },
  {
   "cell_type": "code",
   "execution_count": 13,
   "metadata": {},
   "outputs": [
    {
     "name": "stdout",
     "output_type": "stream",
     "text": [
      "人正在走\n",
      "pig is walking\n",
      "dog is running\n",
      "人正在走\n",
      "pig is walking\n",
      "dog is running\n"
     ]
    }
   ],
   "source": [
    "# 多态性：一种调用方式，不同的执行效果（多态性）\n",
    "def func(obj):\n",
    "    obj.run()\n",
    " \n",
    "func(peo1)\n",
    "func(pig1)\n",
    "func(d1)\n",
    " \n",
    " \n",
    "# peo1.run()\n",
    "# pig1.run()\n",
    " \n",
    " \n",
    "# 多态性依赖于：继承\n",
    "##多态性：定义统一的接口，\n",
    "def func(obj): #obj这个参数没有类型限制，可以传入不同类型的值\n",
    "    obj.run() #调用的逻辑都一样，执行的结果却不一样\n",
    " \n",
    "func(peo1)\n",
    "func(pig1)\n",
    " \n",
    "func(d1)"
   ]
  },
  {
   "cell_type": "code",
   "execution_count": 14,
   "metadata": {},
   "outputs": [
    {
     "ename": "SyntaxError",
     "evalue": "invalid syntax (<ipython-input-14-9424576123b0>, line 8)",
     "output_type": "error",
     "traceback": [
      "\u001b[1;36m  File \u001b[1;32m\"<ipython-input-14-9424576123b0>\"\u001b[1;36m, line \u001b[1;32m8\u001b[0m\n\u001b[1;33m    say hello\u001b[0m\n\u001b[1;37m            ^\u001b[0m\n\u001b[1;31mSyntaxError\u001b[0m\u001b[1;31m:\u001b[0m invalid syntax\n"
     ]
    }
   ],
   "source": [
    ">>> def func(animal): #参数animal就是对态性的体现\n",
    "...     animal.talk()\n",
    "...\n",
    ">>> people1=People() #产生一个人的对象\n",
    ">>> pig1=Pig() #产生一个猪的对象\n",
    ">>> dog1=Dog() #产生一个狗的对象\n",
    ">>> func(people1)\n",
    "say hello\n",
    ">>> func(pig1)\n",
    "say aoao\n",
    ">>> func(dog1)\n",
    "say wangwang"
   ]
  },
  {
   "cell_type": "code",
   "execution_count": 19,
   "metadata": {},
   "outputs": [
    {
     "ename": "SyntaxError",
     "evalue": "invalid syntax (<ipython-input-19-85ab4ccdf20f>, line 7)",
     "output_type": "error",
     "traceback": [
      "\u001b[1;36m  File \u001b[1;32m\"<ipython-input-19-85ab4ccdf20f>\"\u001b[1;36m, line \u001b[1;32m7\u001b[0m\n\u001b[1;33m    open file()\u001b[0m\n\u001b[1;37m            ^\u001b[0m\n\u001b[1;31mSyntaxError\u001b[0m\u001b[1;31m:\u001b[0m invalid syntax\n"
     ]
    }
   ],
   "source": [
    ">>> def func(f):\n",
    "...     f.click()\n",
    "...\n",
    ">>> t1=Text()\n",
    ">>> e1=ExeFile()\n",
    ">>> func(t1)\n",
    "open file\n",
    ">>> func(e1)\n",
    "execute file"
   ]
  },
  {
   "cell_type": "markdown",
   "metadata": {},
   "source": [
    "## 综上可以说，多态性是一个接口（函数func）,多种实现（如f.click()）"
   ]
  },
  {
   "cell_type": "markdown",
   "metadata": {},
   "source": [
    "# 二、为什么要用多态性（多态性的好处）\n",
    "    ·其实大家从上面多态性的例子可以看出，我们并没有增加上面新的知识，也就是说Python本身就是支持多态性的，这么做的好处是什么呢？\n",
    "    ·（1）增加了程序的灵活性\n",
    "      以不变应万变，不论对象千变万化，使用者都是同一种形式去调用，如func(animal)\n",
    "    ·（2）增加了程序额可扩展性\n",
    "      通过继承animal类创建了一个新的类，使用者无需更改自己的代码，还是用func(animal)去调用\n",
    "\n",
    " "
   ]
  },
  {
   "cell_type": "code",
   "execution_count": 20,
   "metadata": {},
   "outputs": [
    {
     "ename": "SyntaxError",
     "evalue": "invalid syntax (<ipython-input-20-1ebb7f2a029d>, line 10)",
     "output_type": "error",
     "traceback": [
      "\u001b[1;36m  File \u001b[1;32m\"<ipython-input-20-1ebb7f2a029d>\"\u001b[1;36m, line \u001b[1;32m10\u001b[0m\n\u001b[1;33m    say miao\u001b[0m\n\u001b[1;37m           ^\u001b[0m\n\u001b[1;31mSyntaxError\u001b[0m\u001b[1;31m:\u001b[0m invalid syntax\n"
     ]
    }
   ],
   "source": [
    ">>> class Cat(Animal): #属于动物的另外一种形态：猫\n",
    "...     def talk(self):\n",
    "...         print('say miao')\n",
    "...\n",
    ">>> def func(animal): #对于使用者来说，自己的代码根本无需改动\n",
    "...     animal.talk()\n",
    "...\n",
    ">>> cat1=Cat() #实例出一只猫\n",
    ">>> func(cat1) #甚至连调用方式也无需改变，就能调用猫的talk功能\n",
    "say miao\n",
    " \n",
    "'''\n",
    "这样我们新增了一个形态Cat，由Cat类产生的实例cat1，使用者可以在完全不需要修改自己代码的情况下。使用和人、狗、猪一样的方式调用cat1的talk方法，即func(cat1)\n",
    "'''"
   ]
  },
  {
   "cell_type": "code",
   "execution_count": null,
   "metadata": {},
   "outputs": [],
   "source": []
  },
  {
   "cell_type": "code",
   "execution_count": null,
   "metadata": {},
   "outputs": [],
   "source": []
  },
  {
   "cell_type": "code",
   "execution_count": null,
   "metadata": {},
   "outputs": [],
   "source": []
  },
  {
   "cell_type": "code",
   "execution_count": null,
   "metadata": {},
   "outputs": [],
   "source": []
  },
  {
   "cell_type": "code",
   "execution_count": null,
   "metadata": {},
   "outputs": [],
   "source": []
  },
  {
   "cell_type": "code",
   "execution_count": null,
   "metadata": {},
   "outputs": [],
   "source": []
  }
 ],
 "metadata": {
  "kernelspec": {
   "display_name": "Python 3",
   "language": "python",
   "name": "python3"
  },
  "language_info": {
   "codemirror_mode": {
    "name": "ipython",
    "version": 3
   },
   "file_extension": ".py",
   "mimetype": "text/x-python",
   "name": "python",
   "nbconvert_exporter": "python",
   "pygments_lexer": "ipython3",
   "version": "3.7.0"
  }
 },
 "nbformat": 4,
 "nbformat_minor": 2
}
