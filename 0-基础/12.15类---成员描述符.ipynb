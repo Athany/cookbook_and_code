{
 "cells": [
  {
   "cell_type": "code",
   "execution_count": 7,
   "metadata": {},
   "outputs": [
    {
     "name": "stdout",
     "output_type": "stream",
     "text": [
      "周潇\n"
     ]
    },
    {
     "ename": "AttributeError",
     "evalue": "'A' object has no attribute 'name'",
     "output_type": "error",
     "traceback": [
      "\u001b[1;31m---------------------------------------------------------------------------\u001b[0m",
      "\u001b[1;31mAttributeError\u001b[0m                            Traceback (most recent call last)",
      "\u001b[1;32m<ipython-input-7-0bd7c74aad4e>\u001b[0m in \u001b[0;36m<module>\u001b[1;34m()\u001b[0m\n\u001b[0;32m     19\u001b[0m \u001b[1;32mdel\u001b[0m\u001b[1;33m(\u001b[0m\u001b[0ma\u001b[0m\u001b[1;33m.\u001b[0m\u001b[0mname\u001b[0m\u001b[1;33m)\u001b[0m\u001b[1;33m\u001b[0m\u001b[0m\n\u001b[0;32m     20\u001b[0m \u001b[1;33m\u001b[0m\u001b[0m\n\u001b[1;32m---> 21\u001b[1;33m \u001b[0mprint\u001b[0m\u001b[1;33m(\u001b[0m\u001b[0ma\u001b[0m\u001b[1;33m.\u001b[0m\u001b[0mname\u001b[0m\u001b[1;33m)\u001b[0m\u001b[1;33m\u001b[0m\u001b[0m\n\u001b[0m",
      "\u001b[1;31mAttributeError\u001b[0m: 'A' object has no attribute 'name'"
     ]
    }
   ],
   "source": [
    "# 变量的三种用法\n",
    "\n",
    "class A():\n",
    "    def __init__(self):\n",
    "        self.name = \"zhouxiao\"\n",
    "        self.age = 18\n",
    "        \n",
    "a = A()\n",
    "# 属性的三种用法\n",
    "# 1.赋值\n",
    "# 2.读取\n",
    "# 3.删除\n",
    "\n",
    "a.name = \"周潇\"   # 赋值\n",
    "a.name            # 读取\n",
    "\n",
    "print(a.name)\n",
    "\n",
    "del(a.name)      #删除\n",
    "\n",
    "print(a.name) "
   ]
  },
  {
   "cell_type": "code",
   "execution_count": 8,
   "metadata": {},
   "outputs": [],
   "source": [
    "# 类属性 property\n",
    "# 应用场景：\n",
    "# 对变量除了普通的三种操作，还想增加一些附加的功能，可以通过property完成"
   ]
  },
  {
   "cell_type": "code",
   "execution_count": 17,
   "metadata": {},
   "outputs": [
    {
     "name": "stdout",
     "output_type": "stream",
     "text": [
      "我被读取了\n",
      "周潇\n",
      "******************************\n"
     ]
    }
   ],
   "source": [
    "class A():\n",
    "    def __init__(self):\n",
    "        self.name = \"haha\"\n",
    "        self.age = 18\n",
    "        \n",
    "# 此功能，是对类变量进行读取操作的时候应该执行的函数功能\n",
    "    def a(self):\n",
    "        print(\"我被读取了\")\n",
    "        return self.name\n",
    "    \n",
    "# 模拟的是对变量进行写操作的时候执行的功能\n",
    "    def b(self,name):\n",
    "        print(\"我被写入了\")\n",
    "        self.name = \"可爱的\"+ name                                        # 为什么这条没有读？\n",
    "        \n",
    "# 模拟的是删除变量的时候进行的操作\n",
    "    def c(self):\n",
    "        pass\n",
    "    \n",
    "# 默认调用下面四个中的第一个函数\n",
    "    name2 = property(a,b,c,\"property举例\")                                # 顺序固定，第一个必须是读取的操作，第二个才是设置、写入\n",
    "\n",
    "a = A()\n",
    "\n",
    "\n",
    "a.name = \"周潇\"\n",
    "print(a.name2)\n",
    "\n",
    "print(\"*\"*30)\n",
    "\n"
   ]
  },
  {
   "cell_type": "code",
   "execution_count": null,
   "metadata": {},
   "outputs": [],
   "source": [
    "#10、抽象类\n",
    "    ·抽象方法：没有具体实现内容的方法称为抽象方法\n",
    "    ·抽象方法规范了子类的行为和接口\n",
    "    ·抽象类的使用需要借助abc模块\n",
    "        import abc\n",
    "\n",
    "    ·抽象类：包含抽象方法的类叫抽象类，通常称为ABC类\n",
    "        抽象类的使用\n",
    "    ·抽象类可以包含抽象方法，也可以包含具体方法\n",
    "    ·抽象类中有方法也可以有属性\n",
    "    ·抽象类不允许实例化\n",
    "    ·必须继承才可以使用，且继承的子类必须实现所有继承来的抽象方法\n",
    "    ·抽象类的作用是设定类的标准，以便于开发的时候具有统一的规范"
   ]
  },
  {
   "cell_type": "code",
   "execution_count": 33,
   "metadata": {},
   "outputs": [
    {
     "name": "stdout",
     "output_type": "stream",
     "text": [
      "闻一下对方的味道\n",
      "闻一下对方的味道\n"
     ]
    }
   ],
   "source": [
    "# 抽象  1\n",
    "\n",
    "class Animal():\n",
    "    def sayHello(self):\n",
    "        print(\"闻一下对方的味道\")\n",
    "    \n",
    "class Dog(Animal):\n",
    "        pass\n",
    "        \n",
    "        \n",
    "class Person(Animal):\n",
    "        pass\n",
    "        \n",
    "        \n",
    "d = Dog()\n",
    "d.sayHello()\n",
    "\n",
    "p = Person()\n",
    "p.sayHello()"
   ]
  },
  {
   "cell_type": "code",
   "execution_count": 36,
   "metadata": {},
   "outputs": [],
   "source": [
    "# 抽象  2\n",
    "\n",
    "class Animal():\n",
    "    def sayHello(self):\n",
    "        print(\"闻一下对方的味道\")\n",
    "    \n",
    "class Dog(Animal):\n",
    "    def sayHello(self):\n",
    "        pass\n",
    "        \n",
    "        \n",
    "class Person(Animal):\n",
    "    def sayHello(self):\n",
    "        pass\n",
    "        \n",
    "        \n",
    "d = Dog()\n",
    "d.sayHello()\n",
    "\n",
    "p = Person()\n",
    "p.sayHello()"
   ]
  },
  {
   "cell_type": "code",
   "execution_count": null,
   "metadata": {},
   "outputs": [],
   "source": [
    "# 子类有成员，不向上查找"
   ]
  },
  {
   "cell_type": "code",
   "execution_count": 35,
   "metadata": {},
   "outputs": [
    {
     "name": "stdout",
     "output_type": "stream",
     "text": [
      "闻一下对方\n",
      "握一下手\n"
     ]
    }
   ],
   "source": [
    "# 抽象  3\n",
    "\n",
    "class Animal():\n",
    "    def sayHello(self):\n",
    "        pass\n",
    "    \n",
    "class Dog(Animal):\n",
    "    def sayHello(self):\n",
    "        print(\"闻一下对方\")\n",
    "        \n",
    "        \n",
    "class Person(Animal):\n",
    "    def sayHello(self):\n",
    "        print(\"握一下手\")\n",
    "        \n",
    "        \n",
    "d = Dog()\n",
    "d.sayHello()\n",
    "\n",
    "p = Person()\n",
    "p.sayHello()"
   ]
  },
  {
   "cell_type": "code",
   "execution_count": 37,
   "metadata": {},
   "outputs": [
    {
     "name": "stdout",
     "output_type": "stream",
     "text": [
      "闻一下对方\n",
      "握一下手\n"
     ]
    }
   ],
   "source": [
    "# 抽象  4\n",
    "\n",
    "class Animal():\n",
    "        pass\n",
    "    \n",
    "class Dog(Animal):\n",
    "    def sayHello(self):\n",
    "        print(\"闻一下对方\")\n",
    "        \n",
    "        \n",
    "class Person(Animal):\n",
    "    def sayHello(self):\n",
    "        print(\"握一下手\")\n",
    "        \n",
    "        \n",
    "d = Dog()\n",
    "d.sayHello()\n",
    "\n",
    "p = Person()\n",
    "p.sayHello()"
   ]
  },
  {
   "cell_type": "code",
   "execution_count": 38,
   "metadata": {},
   "outputs": [],
   "source": [
    "# 抽象类的实现\n",
    "\n",
    "import abc\n",
    "\n",
    "# 声明一个类并且指定当前类的元类\n",
    "\n",
    "class Human(metaclass=abc.ABCMeta):\n",
    "    \n",
    "    # 定义一个抽象的方法\n",
    "    @abc.abstractmethod\n",
    "    def smoking(self):\n",
    "        pass\n",
    "    \n",
    "    # 定义类抽象方法\n",
    "    @abc.abstractclassmethod\n",
    "    def drink(self):\n",
    "        pass\n",
    "    \n",
    "    # 定义静态抽象方法\n",
    "    @abc.abstractstaticmethod\n",
    "    def play(self):\n",
    "        pass\n",
    "    \n",
    "    def sleep(self):\n",
    "        print(\"sleeping...\")\n",
    "        \n",
    "        \n",
    "# 抽象的类不允许实例化，用继承来实现\n",
    "    "
   ]
  },
  {
   "cell_type": "code",
   "execution_count": 60,
   "metadata": {},
   "outputs": [
    {
     "name": "stdout",
     "output_type": "stream",
     "text": [
      "老婆,看电影去吗？\n"
     ]
    }
   ],
   "source": [
    "# 函数名可以当变量使用 1\n",
    "\n",
    "def A(name):\n",
    "    print(\"{0},看电影去吗？\".format(name))\n",
    " \n",
    "A(\"老婆\")\n",
    "\n",
    "\n"
   ]
  },
  {
   "cell_type": "code",
   "execution_count": 63,
   "metadata": {},
   "outputs": [
    {
     "name": "stdout",
     "output_type": "stream",
     "text": [
      "zhouxiao,游泳去吗？\n"
     ]
    }
   ],
   "source": [
    "# 函数名可以当变量使用 2\n",
    "\n",
    "def B(name):\n",
    "    print(\"{0},游泳去吗？\".format(name))\n",
    " \n",
    "b = B\n",
    "b(\"zhouxiao\")\n"
   ]
  },
  {
   "cell_type": "code",
   "execution_count": 64,
   "metadata": {},
   "outputs": [
    {
     "name": "stdout",
     "output_type": "stream",
     "text": [
      "亲爱的,跑步去吗？\n"
     ]
    }
   ],
   "source": [
    "# 函数名可以当变量使用 3\n",
    "\n",
    "def C(name):\n",
    "    print(\"{0},跑步去吗？\".format(name))\n",
    " \n",
    "\n",
    "c = C(\"亲爱的\")"
   ]
  },
  {
   "cell_type": "code",
   "execution_count": 26,
   "metadata": {},
   "outputs": [
    {
     "name": "stdout",
     "output_type": "stream",
     "text": [
      "saying...\n",
      "saying...\n",
      "Saying......\n"
     ]
    }
   ],
   "source": [
    "# 自己组装一个类\n",
    "\n",
    "class A():\n",
    "    pass\n",
    "\n",
    "def say(self):\n",
    "    print(\"saying...\")\n",
    "    \n",
    "# 和上面效果一样    \n",
    "class B():\n",
    "    def say(self):\n",
    "        print(\"Saying......\")\n",
    "        \n",
    "        \n",
    "say(1)\n",
    "\n",
    "\n",
    "A.shuxing = say                                                                       # 后面没括号\n",
    "a = A()\n",
    "a.shuxing()\n",
    "\n",
    "\n",
    "\n",
    "b = B()\n",
    "b.say()\n"
   ]
  },
  {
   "cell_type": "code",
   "execution_count": 69,
   "metadata": {},
   "outputs": [
    {
     "ename": "TypeError",
     "evalue": "say() missing 1 required positional argument: 'self'",
     "output_type": "error",
     "traceback": [
      "\u001b[1;31m---------------------------------------------------------------------------\u001b[0m",
      "\u001b[1;31mTypeError\u001b[0m                                 Traceback (most recent call last)",
      "\u001b[1;32m<ipython-input-69-d4865bcab5d8>\u001b[0m in \u001b[0;36m<module>\u001b[1;34m()\u001b[0m\n\u001b[0;32m      9\u001b[0m \u001b[0ma\u001b[0m \u001b[1;33m=\u001b[0m \u001b[0mA\u001b[0m\u001b[1;33m(\u001b[0m\u001b[1;33m)\u001b[0m\u001b[1;33m\u001b[0m\u001b[0m\n\u001b[0;32m     10\u001b[0m \u001b[0ma\u001b[0m\u001b[1;33m.\u001b[0m\u001b[0msux\u001b[0m \u001b[1;33m=\u001b[0m \u001b[0msay\u001b[0m\u001b[1;33m\u001b[0m\u001b[0m\n\u001b[1;32m---> 11\u001b[1;33m \u001b[0ma\u001b[0m\u001b[1;33m.\u001b[0m\u001b[0msux\u001b[0m\u001b[1;33m(\u001b[0m\u001b[1;33m)\u001b[0m\u001b[1;33m\u001b[0m\u001b[0m\n\u001b[0m",
      "\u001b[1;31mTypeError\u001b[0m: say() missing 1 required positional argument: 'self'"
     ]
    }
   ],
   "source": [
    "# 自己组装一个类 2\n",
    "\n",
    "class A():\n",
    "    pass\n",
    "\n",
    "def say(self):\n",
    "    print(\"saying...\")\n",
    "    \n",
    "a = A()\n",
    "a.sux = say\n",
    "a.sux()"
   ]
  },
  {
   "cell_type": "code",
   "execution_count": 70,
   "metadata": {},
   "outputs": [
    {
     "name": "stdout",
     "output_type": "stream",
     "text": [
      "saying...\n"
     ]
    }
   ],
   "source": [
    "# 自己组装一个类 3\n",
    "\n",
    "class A():\n",
    "    pass\n",
    "\n",
    "def say(self):\n",
    "    print(\"saying...\")\n",
    "    \n",
    "a = A()\n",
    "A.sux = say                                                               # 2和3对比说明，直接绑定类是没问题的，但是要绑定类示例是不行的\n",
    "a.sux()"
   ]
  },
  {
   "cell_type": "code",
   "execution_count": 71,
   "metadata": {},
   "outputs": [
    {
     "name": "stdout",
     "output_type": "stream",
     "text": [
      "saying...\n"
     ]
    }
   ],
   "source": [
    "# 自己组装一个类 4\n",
    "\n",
    "from types import MethodType\n",
    "\n",
    "\n",
    "class A():\n",
    "    pass\n",
    "\n",
    "def say(self):\n",
    "    print(\"saying...\")\n",
    "    \n",
    "a = A()\n",
    "a.sux = MethodType(say,A)                                                      # 通过这个函数可以直接赋值给类示例\n",
    "a.sux()"
   ]
  },
  {
   "cell_type": "code",
   "execution_count": 72,
   "metadata": {},
   "outputs": [
    {
     "name": "stdout",
     "output_type": "stream",
     "text": [
      "Help on class method in module builtins:\n",
      "\n",
      "class method(object)\n",
      " |  method(function, instance)\n",
      " |  \n",
      " |  Create a bound instance method object.\n",
      " |  \n",
      " |  Methods defined here:\n",
      " |  \n",
      " |  __call__(self, /, *args, **kwargs)\n",
      " |      Call self as a function.\n",
      " |  \n",
      " |  __delattr__(self, name, /)\n",
      " |      Implement delattr(self, name).\n",
      " |  \n",
      " |  __eq__(self, value, /)\n",
      " |      Return self==value.\n",
      " |  \n",
      " |  __ge__(self, value, /)\n",
      " |      Return self>=value.\n",
      " |  \n",
      " |  __get__(self, instance, owner, /)\n",
      " |      Return an attribute of instance, which is of type owner.\n",
      " |  \n",
      " |  __getattribute__(self, name, /)\n",
      " |      Return getattr(self, name).\n",
      " |  \n",
      " |  __gt__(self, value, /)\n",
      " |      Return self>value.\n",
      " |  \n",
      " |  __hash__(self, /)\n",
      " |      Return hash(self).\n",
      " |  \n",
      " |  __le__(self, value, /)\n",
      " |      Return self<=value.\n",
      " |  \n",
      " |  __lt__(self, value, /)\n",
      " |      Return self<value.\n",
      " |  \n",
      " |  __ne__(self, value, /)\n",
      " |      Return self!=value.\n",
      " |  \n",
      " |  __reduce__(...)\n",
      " |      Helper for pickle.\n",
      " |  \n",
      " |  __repr__(self, /)\n",
      " |      Return repr(self).\n",
      " |  \n",
      " |  __setattr__(self, name, value, /)\n",
      " |      Implement setattr(self, name, value).\n",
      " |  \n",
      " |  ----------------------------------------------------------------------\n",
      " |  Static methods defined here:\n",
      " |  \n",
      " |  __new__(*args, **kwargs) from builtins.type\n",
      " |      Create and return a new object.  See help(type) for accurate signature.\n",
      " |  \n",
      " |  ----------------------------------------------------------------------\n",
      " |  Data descriptors defined here:\n",
      " |  \n",
      " |  __func__\n",
      " |      the function (or other callable) implementing a method\n",
      " |  \n",
      " |  __self__\n",
      " |      the instance to which a method is bound\n",
      "\n"
     ]
    }
   ],
   "source": [
    "help(MethodType)"
   ]
  },
  {
   "cell_type": "code",
   "execution_count": 74,
   "metadata": {},
   "outputs": [
    {
     "name": "stdout",
     "output_type": "stream",
     "text": [
      "Help on class type in module builtins:\n",
      "\n",
      "class type(object)\n",
      " |  type(object_or_name, bases, dict)\n",
      " |  type(object) -> the object's type\n",
      " |  type(name, bases, dict) -> a new type\n",
      " |  \n",
      " |  Methods defined here:\n",
      " |  \n",
      " |  __call__(self, /, *args, **kwargs)\n",
      " |      Call self as a function.\n",
      " |  \n",
      " |  __delattr__(self, name, /)\n",
      " |      Implement delattr(self, name).\n",
      " |  \n",
      " |  __dir__(self, /)\n",
      " |      Specialized __dir__ implementation for types.\n",
      " |  \n",
      " |  __getattribute__(self, name, /)\n",
      " |      Return getattr(self, name).\n",
      " |  \n",
      " |  __init__(self, /, *args, **kwargs)\n",
      " |      Initialize self.  See help(type(self)) for accurate signature.\n",
      " |  \n",
      " |  __instancecheck__(self, instance, /)\n",
      " |      Check if an object is an instance.\n",
      " |  \n",
      " |  __repr__(self, /)\n",
      " |      Return repr(self).\n",
      " |  \n",
      " |  __setattr__(self, name, value, /)\n",
      " |      Implement setattr(self, name, value).\n",
      " |  \n",
      " |  __sizeof__(self, /)\n",
      " |      Return memory consumption of the type object.\n",
      " |  \n",
      " |  __subclasscheck__(self, subclass, /)\n",
      " |      Check if a class is a subclass.\n",
      " |  \n",
      " |  __subclasses__(self, /)\n",
      " |      Return a list of immediate subclasses.\n",
      " |  \n",
      " |  mro(self, /)\n",
      " |      Return a type's method resolution order.\n",
      " |  \n",
      " |  ----------------------------------------------------------------------\n",
      " |  Class methods defined here:\n",
      " |  \n",
      " |  __prepare__(...)\n",
      " |      __prepare__() -> dict\n",
      " |      used to create the namespace for the class statement\n",
      " |  \n",
      " |  ----------------------------------------------------------------------\n",
      " |  Static methods defined here:\n",
      " |  \n",
      " |  __new__(*args, **kwargs)\n",
      " |      Create and return a new object.  See help(type) for accurate signature.\n",
      " |  \n",
      " |  ----------------------------------------------------------------------\n",
      " |  Data descriptors defined here:\n",
      " |  \n",
      " |  __abstractmethods__\n",
      " |  \n",
      " |  __dict__\n",
      " |  \n",
      " |  __text_signature__\n",
      " |  \n",
      " |  ----------------------------------------------------------------------\n",
      " |  Data and other attributes defined here:\n",
      " |  \n",
      " |  __base__ = <class 'object'>\n",
      " |      The most base type\n",
      " |  \n",
      " |  __bases__ = (<class 'object'>,)\n",
      " |  \n",
      " |  __basicsize__ = 864\n",
      " |  \n",
      " |  __dictoffset__ = 264\n",
      " |  \n",
      " |  __flags__ = -2146675712\n",
      " |  \n",
      " |  __itemsize__ = 40\n",
      " |  \n",
      " |  __mro__ = (<class 'type'>, <class 'object'>)\n",
      " |  \n",
      " |  __weakrefoffset__ = 368\n",
      "\n"
     ]
    }
   ],
   "source": [
    "help(type)                         # 下面第五行 type(name, bases, dict) -> a new type"
   ]
  },
  {
   "cell_type": "code",
   "execution_count": 75,
   "metadata": {},
   "outputs": [
    {
     "name": "stdout",
     "output_type": "stream",
     "text": [
      "Saying...\n",
      "Talking...\n"
     ]
    }
   ],
   "source": [
    "# 利用type造一个类\n",
    "# 先定义类应该具有的成员函数\n",
    "\n",
    "def say(self):\n",
    "    print(\"Saying...\")\n",
    "    \n",
    "def talk(self):\n",
    "    print(\"Talking...\")\n",
    "    \n",
    "# 用type来创建一个类\n",
    "\n",
    "A = type(\"AName\",(object,),{\"class_say\":say,\"class_talk\":talk})\n",
    "\n",
    "# 然后可以像正常访问一样使用类\n",
    "\n",
    "a =A()\n",
    "a.class_say()\n",
    "a.class_talk()"
   ]
  },
  {
   "cell_type": "code",
   "execution_count": 77,
   "metadata": {},
   "outputs": [
    {
     "name": "stdout",
     "output_type": "stream",
     "text": [
      "哈哈，我是元类\n"
     ]
    },
    {
     "data": {
      "text/plain": [
       "'000000'"
      ]
     },
     "execution_count": 77,
     "metadata": {},
     "output_type": "execute_result"
    }
   ],
   "source": [
    "# 元类演示\n",
    "\n",
    "# 元类的写法是固定的，必须继承于type\n",
    "# 元类一般命名以Metaclass结尾\n",
    "\n",
    "class AAMetaclass(type):\n",
    "    # 注意以下写法\n",
    "    def __new__(cls,name,bases,attrs):                                                    # 写法\n",
    "        # 自己的业务处理\n",
    "        print(\"哈哈，我是元类\")\n",
    "        attrs[\"id\"] = \"000000\"                                                             # attrs 的使用方法以及中括号\n",
    "        attrs[\"addr\"] = \"天津市。。。\"\n",
    "        return type.__new__(cls,name,bases,attrs)\n",
    "    \n",
    "    \n",
    "# 元类定义完就可以使用，使用注意写法\n",
    "\n",
    "class Teacher(object,metaclass = AAMetaclass):                                          # 写法\n",
    "    pass\n",
    "\n",
    "t = Teacher()\n",
    "\n",
    "t.id\n",
    "    "
   ]
  },
  {
   "cell_type": "code",
   "execution_count": null,
   "metadata": {},
   "outputs": [],
   "source": [
    "# 抽象类的实现\n",
    "import abc\n",
    " \n",
    "# 声明一个类并且指定当前类的元素\n",
    "class Human(metaclass = abc.ABCMeta)\n",
    "\n",
    "# 定义一个抽象的方法\n",
    "    @abc.abstractmethod\n",
    "    def smoking(self):\n",
    "        pass\n",
    "\n",
    "# 定义类抽象的方法\n",
    "    @abc.abstractmethod\n",
    "    def drink():\n",
    "        pass\n",
    "\n",
    "# 定静态抽象的方法\n",
    "    @abc.abstractmethod\n",
    "    def play():\n",
    "        pass"
   ]
  },
  {
   "cell_type": "code",
   "execution_count": null,
   "metadata": {},
   "outputs": [],
   "source": []
  },
  {
   "cell_type": "code",
   "execution_count": null,
   "metadata": {},
   "outputs": [],
   "source": []
  },
  {
   "cell_type": "code",
   "execution_count": null,
   "metadata": {},
   "outputs": [],
   "source": []
  },
  {
   "cell_type": "code",
   "execution_count": null,
   "metadata": {},
   "outputs": [],
   "source": []
  }
 ],
 "metadata": {
  "kernelspec": {
   "display_name": "Python 3",
   "language": "python",
   "name": "python3"
  },
  "language_info": {
   "codemirror_mode": {
    "name": "ipython",
    "version": 3
   },
   "file_extension": ".py",
   "mimetype": "text/x-python",
   "name": "python",
   "nbconvert_exporter": "python",
   "pygments_lexer": "ipython3",
   "version": "3.7.0"
  }
 },
 "nbformat": 4,
 "nbformat_minor": 2
}
