{
 "cells": [
  {
   "cell_type": "markdown",
   "metadata": {},
   "source": [
    "# 迭代器\n",
    "    ·可迭代(Iterable):直接作用于for循环的变量\n",
    "    ·迭代器(Iterator):不但可以作用于for循环，还可以被next调用\n",
    "    ·list是典型的可迭代对象，但不是迭代器\n",
    "    ·通过isinstance判断是否为迭代器或者是否可迭代。\n",
    "    ·iterable和iterator可以转换 \n",
    "    ·通过iter函数\n",
    "    "
   ]
  },
  {
   "cell_type": "code",
   "execution_count": 1,
   "metadata": {},
   "outputs": [
    {
     "name": "stdout",
     "output_type": "stream",
     "text": [
      "0\n",
      "1\n",
      "2\n",
      "3\n",
      "4\n",
      "5\n",
      "6\n",
      "7\n",
      "8\n",
      "9\n",
      "0\n",
      "1\n",
      "2\n",
      "3\n",
      "4\n"
     ]
    }
   ],
   "source": [
    "# 可迭代\n",
    "l = [ i for i in range(10)]\n",
    "\n",
    "# l是可迭代的，但不是迭代器\n",
    "for idx in l:\n",
    "    print(idx)\n",
    "\n",
    "# range是个迭代器\n",
    "for i in range(5):\n",
    "    print(i)"
   ]
  },
  {
   "cell_type": "code",
   "execution_count": 2,
   "metadata": {},
   "outputs": [
    {
     "name": "stdout",
     "output_type": "stream",
     "text": [
      "True\n",
      "False\n"
     ]
    },
    {
     "name": "stderr",
     "output_type": "stream",
     "text": [
      "C:\\ProgramData\\Anaconda3\\lib\\site-packages\\ipykernel_launcher.py:9: DeprecationWarning: Using or importing the ABCs from 'collections' instead of from 'collections.abc' is deprecated, and in 3.8 it will stop working\n",
      "  if __name__ == '__main__':\n"
     ]
    }
   ],
   "source": [
    "# isinstance案例\n",
    "# 判断某个变量是否是一个实例\n",
    "# 判断是否可迭代\n",
    "from collections import Iterable\n",
    "ll = [1,2,3,4,5]\n",
    "\n",
    "print(isinstance(ll, Iterable))\n",
    "\n",
    "from collections import Iterator\n",
    "print(isinstance(ll, Iterator))\n"
   ]
  },
  {
   "cell_type": "code",
   "execution_count": 3,
   "metadata": {},
   "outputs": [
    {
     "name": "stdout",
     "output_type": "stream",
     "text": [
      "True\n",
      "False\n",
      "True\n",
      "True\n"
     ]
    }
   ],
   "source": [
    "# iter函数\n",
    "\n",
    "s = 'i love zhou xaio'\n",
    "\n",
    "print(isinstance(s, Iterable))\n",
    "print(isinstance(s, Iterator))\n",
    "\n",
    "s_iter = iter(s)\n",
    "print(isinstance(s_iter, Iterable))\n",
    "print(isinstance(s_iter, Iterator))\n"
   ]
  },
  {
   "cell_type": "markdown",
   "metadata": {},
   "source": [
    "# 生成器\n",
    "    ·generator: 一边循环一边计算下一个元素的机制/算法\n",
    "    ·需要满足三个条件： \n",
    "        ·每次调用都生产出for循环需要的下一个元素或者\n",
    "        ·如果达到最后一个后，爆出StopIteration异常\n",
    "        ·可以被next函数调用\n",
    "    ·如何生成一个生成器 \n",
    "        ·直接使用\n",
    "        ·如果函数中包含yield，则这个函数就叫生成器\n",
    "        ·next调用函数，遇到yield返回\n"
   ]
  },
  {
   "cell_type": "code",
   "execution_count": 4,
   "metadata": {},
   "outputs": [
    {
     "name": "stdout",
     "output_type": "stream",
     "text": [
      "<class 'list'>\n",
      "<class 'generator'>\n"
     ]
    }
   ],
   "source": [
    "# 直接使用生成器\n",
    "\n",
    "L = [x*x for x in range(5)] # 放在中括号中是列表生成器\n",
    "g = (x*x for x in range(5)) # 放在小括号中就是生成器\n",
    "\n",
    "print(type(L))\n",
    "print(type(g))"
   ]
  },
  {
   "cell_type": "code",
   "execution_count": 5,
   "metadata": {},
   "outputs": [
    {
     "name": "stdout",
     "output_type": "stream",
     "text": [
      "Step 1\n",
      "Step 2\n",
      "Step 3\n"
     ]
    }
   ],
   "source": [
    "# 函数案例\n",
    "def odd():\n",
    "    print(\"Step 1\")\n",
    "    print(\"Step 2\")\n",
    "    print(\"Step 3\")\n",
    "    return None\n",
    "\n",
    "odd()"
   ]
  },
  {
   "cell_type": "code",
   "execution_count": 6,
   "metadata": {},
   "outputs": [
    {
     "name": "stdout",
     "output_type": "stream",
     "text": [
      "Step 1\n",
      "1\n",
      "Step 2\n",
      "2\n",
      "Step 3\n",
      "3\n"
     ]
    }
   ],
   "source": [
    "# 生成器的案例\n",
    "# 在函数odd中，yield负责返回\n",
    "def odd():\n",
    "    print(\"Step 1\")\n",
    "    yield 1\n",
    "    print(\"Step 2\")\n",
    "    yield 2\n",
    "    print(\"Step 3\")\n",
    "    yield 3\n",
    "\n",
    "# odd() 是调用生成器\n",
    "g = odd()\n",
    "one = next(g)\n",
    "print(one)\n",
    "\n",
    "two = next(g)\n",
    "print(two)\n",
    "\n",
    "three = next(g)\n",
    "print(three)\n"
   ]
  },
  {
   "cell_type": "code",
   "execution_count": 7,
   "metadata": {},
   "outputs": [
    {
     "name": "stdout",
     "output_type": "stream",
     "text": [
      "1\n",
      "1\n",
      "2\n",
      "3\n",
      "5\n"
     ]
    },
    {
     "data": {
      "text/plain": [
       "'Done'"
      ]
     },
     "execution_count": 7,
     "metadata": {},
     "output_type": "execute_result"
    }
   ],
   "source": [
    "# for循环调用生成器\n",
    "def fib(max):\n",
    "    n, a, b = 0, 0, 1 # 注意写法\n",
    "    while n < max:\n",
    "        print(b)\n",
    "        a,b = b, a+b # 注意写法\n",
    "        n += 1\n",
    "\n",
    "    return 'Done'\n",
    "\n",
    "fib(5)\n"
   ]
  },
  {
   "cell_type": "code",
   "execution_count": 12,
   "metadata": {},
   "outputs": [
    {
     "name": "stdout",
     "output_type": "stream",
     "text": [
      "1\n",
      "1\n",
      "2\n",
      "3\n",
      "5\n"
     ]
    },
    {
     "ename": "StopIteration",
     "evalue": "Done",
     "traceback": [
      "\u001b[1;31m---------------------------------------------------------------------------\u001b[0m",
      "\u001b[1;31mStopIteration\u001b[0m                             Traceback (most recent call last)",
      "\u001b[1;32m<ipython-input-12-7fe96b716a0b>\u001b[0m in \u001b[0;36m<module>\u001b[1;34m()\u001b[0m\n\u001b[0;32m     13\u001b[0m \u001b[1;33m\u001b[0m\u001b[0m\n\u001b[0;32m     14\u001b[0m \u001b[1;32mfor\u001b[0m \u001b[0mi\u001b[0m \u001b[1;32min\u001b[0m \u001b[0mrange\u001b[0m\u001b[1;33m(\u001b[0m\u001b[1;36m16\u001b[0m\u001b[1;33m)\u001b[0m\u001b[1;33m:\u001b[0m\u001b[1;33m\u001b[0m\u001b[0m\n\u001b[1;32m---> 15\u001b[1;33m     \u001b[0mrst\u001b[0m \u001b[1;33m=\u001b[0m \u001b[0mnext\u001b[0m\u001b[1;33m(\u001b[0m\u001b[0mg\u001b[0m\u001b[1;33m)\u001b[0m\u001b[1;33m\u001b[0m\u001b[0m\n\u001b[0m\u001b[0;32m     16\u001b[0m     \u001b[0mprint\u001b[0m\u001b[1;33m(\u001b[0m\u001b[0mrst\u001b[0m\u001b[1;33m)\u001b[0m\u001b[1;33m\u001b[0m\u001b[0m\n",
      "\u001b[1;31mStopIteration\u001b[0m: Done"
     ],
     "output_type": "error"
    }
   ],
   "source": [
    "# 斐波那契额数列的生成器写法\n",
    "def fib(max):\n",
    "    n, a, b = 0, 0, 1 # 注意写法\n",
    "    while n < max:\n",
    "        yield b\n",
    "        a,b = b, a+b # 注意写法\n",
    "        n += 1\n",
    "\n",
    "    #需要注意，爆出异常是的返回值是return的返回值\n",
    "    return 'Done'\n",
    "\n",
    "g = fib(5)\n",
    "\n",
    "for i in range(16):\n",
    "    rst = next(g)\n",
    "    print(rst)\n"
   ]
  },
  {
   "cell_type": "code",
   "execution_count": 13,
   "metadata": {},
   "outputs": [
    {
     "name": "stdout",
     "output_type": "stream",
     "text": [
      "1\n",
      "1\n",
      "2\n",
      "3\n",
      "5\n",
      "8\n",
      "13\n",
      "21\n",
      "34\n",
      "55\n"
     ]
    }
   ],
   "source": [
    "ge = fib(10)\n",
    "'''\n",
    "生成器的典型用法是在for中使用\n",
    "比较常用的典型生成器就是range\n",
    "'''\n",
    "for i in ge: #在for循环中使用生成器\n",
    "    print(i)"
   ]
  },
  {
   "cell_type": "code",
   "execution_count": null,
   "metadata": {},
   "outputs": [],
   "source": [
    "# 关于迭代器和生成器也是较为常用的，需要掌握和区分好程序运行时的流程。"
   ]
  },
  {
   "cell_type": "markdown",
   "metadata": {},
   "source": [
    "# 协程\n",
    "    ·历史历程\n",
    "        ·3.4引入协程，用yield实现\n",
    "        ·3.5 引入协程语法\n",
    "        ·实现的协程比较好的包有asyncio, tornado,gevent\n",
    "    ·定义：协程 是为非抢占式多任务产生子程序的计算机程序组件，协程允许不同入口点在不同位置暂停或开始执行程序。\n",
    "    ·从技术角度讲，协程就是一个你可以暂停执行的函数，或者干脆把协程理解成一个协程的生成器\n",
    "    ·协程的实现\n",
    "        ·yield返回\n",
    "        ·send调用\n",
    "        ·代码案例v1\n",
    "    ·协程的四个状态\n",
    "        ·inspect.getgeneratorstate(…) 函数确认，该函数会返回下述字符串的一个：\n",
    "        ·GEN_CREATED：等待开始执行\n",
    "        ·GEN_RUNNING：解释器正在执行\n",
    "        ·GEN_SUSPENED：在yield表达式处暂停\n",
    "        ·GEN_CLOSED：执行结束,\n",
    "        ·next预计（prime）\n",
    "        ·代码案例v2\n",
    "    ·协程终止 \n",
    "        ·协程中未处理的异常会向上冒泡，传给next函数或者send函数的调用方（即触发协程的对象）\n",
    "        ·终止协议的一个方式：发送某个哨符值，让协程退出，内置的None 和Ellipsis等常量经常作用哨符值。\n",
    "    ·yield from\n",
    "        ·调用协程为了得到返回值，协程必须正常终止\n",
    "        ·生成器正常终止会发出StopIteration异常，异常对象的value属性保存返回值\n",
    "        ·yield form从内部捕获StopIteration异常”\n",
    "        ·代码案例v3\n",
    "     ·委派生成器 \n",
    "        ·包含yield from 表达式的生成器函数\n",
    "        ·委派生成器在yield from表达式处暂停，调用方可以直接把数据发给子生成器\n",
    "        ·子生成器在把产生的值发给调用方\n",
    "        ·子生成器在最后，解释器会抛出StopIteration，并且把返回值附加到异常对象上。\n",
    "        ·代码案例v4\n"
   ]
  },
  {
   "cell_type": "code",
   "execution_count": 14,
   "metadata": {},
   "outputs": [
    {
     "name": "stdout",
     "output_type": "stream",
     "text": [
      "111\n",
      "-> start\n",
      "222\n",
      "-> recived Zhouxiao\n"
     ]
    },
    {
     "ename": "StopIteration",
     "evalue": "",
     "traceback": [
      "\u001b[1;31m---------------------------------------------------------------------------\u001b[0m",
      "\u001b[1;31mStopIteration\u001b[0m                             Traceback (most recent call last)",
      "\u001b[1;32m<ipython-input-14-74b8a61618f3>\u001b[0m in \u001b[0;36m<module>\u001b[1;34m()\u001b[0m\n\u001b[0;32m     11\u001b[0m \u001b[0mnext\u001b[0m\u001b[1;33m(\u001b[0m\u001b[0msc\u001b[0m\u001b[1;33m)\u001b[0m \u001b[1;31m# 预激\u001b[0m\u001b[1;33m\u001b[0m\u001b[0m\n\u001b[0;32m     12\u001b[0m \u001b[0mprint\u001b[0m\u001b[1;33m(\u001b[0m\u001b[1;36m222\u001b[0m\u001b[1;33m)\u001b[0m\u001b[1;33m\u001b[0m\u001b[0m\n\u001b[1;32m---> 13\u001b[1;33m \u001b[0msc\u001b[0m\u001b[1;33m.\u001b[0m\u001b[0msend\u001b[0m\u001b[1;33m(\u001b[0m\u001b[1;34m\"Zhouxiao\"\u001b[0m\u001b[1;33m)\u001b[0m\u001b[1;31m# 主进程给协程发一个信号\"\u001b[0m\u001b[1;33m\u001b[0m\u001b[0m\n\u001b[0m",
      "\u001b[1;31mStopIteration\u001b[0m: "
     ],
     "output_type": "error"
    }
   ],
   "source": [
    "# 协程代码案例1\n",
    "def simple_coroutine():\n",
    "    print(\"-> start\")\n",
    "    x = yield\n",
    "    print(\"-> recived\",x)\n",
    "\n",
    "# 主线程\n",
    "sc = simple_coroutine()\n",
    "print(111)\n",
    "# 可以使用sc,send(None),效果一样\n",
    "next(sc) # 预激\n",
    "print(222)\n",
    "sc.send(\"Zhouxiao\")# 主进程给协程发一个信号\"\n"
   ]
  },
  {
   "cell_type": "code",
   "execution_count": 18,
   "metadata": {},
   "outputs": [
    {
     "name": "stdout",
     "output_type": "stream",
     "text": [
      "-> start\n",
      "5\n",
      "-> recived 5 6\n",
      "11\n",
      "-> recived 5 6 7\n"
     ]
    },
    {
     "ename": "StopIteration",
     "evalue": "",
     "traceback": [
      "\u001b[1;31m---------------------------------------------------------------------------\u001b[0m",
      "\u001b[1;31mStopIteration\u001b[0m                             Traceback (most recent call last)",
      "\u001b[1;32m<ipython-input-18-85b0f55e60a8>\u001b[0m in \u001b[0;36m<module>\u001b[1;34m()\u001b[0m\n\u001b[0;32m     18\u001b[0m \u001b[0mbb\u001b[0m \u001b[1;33m=\u001b[0m \u001b[0msc\u001b[0m\u001b[1;33m.\u001b[0m\u001b[0msend\u001b[0m\u001b[1;33m(\u001b[0m\u001b[1;36m6\u001b[0m\u001b[1;33m)\u001b[0m\u001b[1;33m\u001b[0m\u001b[0m\n\u001b[0;32m     19\u001b[0m \u001b[0mprint\u001b[0m\u001b[1;33m(\u001b[0m\u001b[0mbb\u001b[0m\u001b[1;33m)\u001b[0m\u001b[1;33m\u001b[0m\u001b[0m\n\u001b[1;32m---> 20\u001b[1;33m \u001b[0mcc\u001b[0m \u001b[1;33m=\u001b[0m \u001b[0msc\u001b[0m\u001b[1;33m.\u001b[0m\u001b[0msend\u001b[0m\u001b[1;33m(\u001b[0m\u001b[1;36m7\u001b[0m\u001b[1;33m)\u001b[0m\u001b[1;33m\u001b[0m\u001b[0m\n\u001b[0m\u001b[0;32m     21\u001b[0m \u001b[0mprint\u001b[0m\u001b[1;33m(\u001b[0m\u001b[0mcc\u001b[0m\u001b[1;33m)\u001b[0m\u001b[1;33m\u001b[0m\u001b[0m\n",
      "\u001b[1;31mStopIteration\u001b[0m: "
     ],
     "output_type": "error"
    }
   ],
   "source": [
    "# 案例2协程的状态\n",
    "\n",
    "def simple_coroutine(a):\n",
    "    print(\"-> start\")\n",
    "\n",
    "    b = yield a\n",
    "    print(\"-> recived\",a,b)\n",
    "\n",
    "    c = yield a + b\n",
    "    print(\"-> recived\",a,b,c)\n",
    "\n",
    "# runs\n",
    "\n",
    "sc = simple_coroutine(5)\n",
    "\n",
    "aa = next(sc)\n",
    "print(aa)\n",
    "bb = sc.send(6)\n",
    "print(bb)\n",
    "cc = sc.send(7)\n",
    "print(cc)\n"
   ]
  },
  {
   "cell_type": "code",
   "execution_count": 19,
   "metadata": {},
   "outputs": [
    {
     "name": "stdout",
     "output_type": "stream",
     "text": [
      "['A', 'B']\n",
      "['A', 'B']\n"
     ]
    }
   ],
   "source": [
    "# \n",
    "def gen():\n",
    "    for c in \"AB\":\n",
    "        yield c\n",
    "\n",
    "# list 直接用生成器作为参数\n",
    "print(list(gen()))\n",
    "\n",
    "def gen_new():\n",
    "    yield from \"AB\" # yield from 相当于通道。\n",
    "\n",
    "print(list(gen_new()))\n"
   ]
  },
  {
   "cell_type": "code",
   "execution_count": 22,
   "metadata": {},
   "outputs": [
    {
     "name": "stdout",
     "output_type": "stream",
     "text": [
      "{'boys_1': Res(count=7, average=127.14285714285714), 'boys_2': Res(count=7, average=5781.142857142857)}\n"
     ]
    }
   ],
   "source": [
    "# 委派生成器\n",
    "from collections import namedtuple\n",
    "\"\"\"\n",
    "解释：\n",
    "    1、外层for 循环每次迭代会新建立一个grouper 实例，赋值coroutine变量；\n",
    "    2、激活协程\n",
    "    3、内层for循环变量字典value值，并将该value发送给协程，进行平均值计算；\n",
    "    4、发送哨兵，终止协程，打印计算结果\n",
    "\"\"\"\n",
    "\n",
    "ResClass = namedtuple(\"Res\",\"count average\")\n",
    "\n",
    "# 子生成器\n",
    "def averager():\n",
    "        total = 0.0\n",
    "        count = 0\n",
    "        average = None\n",
    "\n",
    "        while True:\n",
    "            term = yield\n",
    "            if term is None:\n",
    "                break\n",
    "            total += term\n",
    "            count += 1\n",
    "            average = total / count\n",
    "        return ResClass(count, average)\n",
    "\n",
    "# 委派生成器\n",
    "def grouper(storages, key):\n",
    "    while True:\n",
    "        # 获取averager()返回值\n",
    "        storages[key] = yield from averager()\n",
    "\n",
    "# 客户端代码\n",
    "def clinet():\n",
    "    process_data = {\n",
    "        'boys_1' : [20,18,12,32,333,43,432],\n",
    "        'boys_2' : [123,321,32123,3223,423,4232,23]\n",
    "    }\n",
    "\n",
    "    storages = {}\n",
    "\n",
    "    for k,v in process_data.items():\n",
    "        # 获得协程\n",
    "        coroutine = grouper(storages,k)\n",
    "\n",
    "        #预激协程\n",
    "        next(coroutine)\n",
    "        #发送数据到协程\n",
    "        for dt in v:\n",
    "            coroutine.send(dt)\n",
    "\n",
    "        #终止协程\n",
    "        coroutine.send(None)\n",
    "    print(storages)\n",
    "\n",
    "#run\n",
    "clinet()"
   ]
  },
  {
   "cell_type": "markdown",
   "metadata": {},
   "source": [
    "# 剩下的内容\n",
    "    ·xml，json\n",
    "    ·re,xpath\n",
    "    ·网络编程：socket，ftp，mail\n",
    "    ·http协议，==>http web server小项目\n",
    "    ·django，尽可能详细\n",
    "    \n",
    "    ----------\n",
    "    ·习题课\n",
    "    ·人工智能\n",
    "    ·爬虫"
   ]
  },
  {
   "cell_type": "markdown",
   "metadata": {},
   "source": [
    "# asyncio\n",
    "    ·python3.4开始引入标准库当中，内置对异步io的支持\n",
    "    ·asyncio本身是一个消息循环\n",
    "    ·步骤：\n",
    "        ·1、创建消息循环\n",
    "        \n",
    "　　　　·2、把协成加进去\n",
    "    \n",
    "　　　　·3、关闭\n",
    "    "
   ]
  },
  {
   "cell_type": "code",
   "execution_count": 25,
   "metadata": {},
   "outputs": [
    {
     "ename": "RuntimeError",
     "evalue": "This event loop is already running",
     "traceback": [
      "\u001b[1;31m---------------------------------------------------------------------------\u001b[0m",
      "\u001b[1;31mRuntimeError\u001b[0m                              Traceback (most recent call last)",
      "\u001b[1;32m<ipython-input-25-79b25ce1a53d>\u001b[0m in \u001b[0;36m<module>\u001b[1;34m()\u001b[0m\n\u001b[0;32m     18\u001b[0m \u001b[0mtasks\u001b[0m \u001b[1;33m=\u001b[0m \u001b[1;33m[\u001b[0m\u001b[0mhello\u001b[0m\u001b[1;33m(\u001b[0m\u001b[1;33m)\u001b[0m\u001b[1;33m,\u001b[0m \u001b[0mhello\u001b[0m\u001b[1;33m(\u001b[0m\u001b[1;33m)\u001b[0m\u001b[1;33m]\u001b[0m\u001b[1;33m\u001b[0m\u001b[0m\n\u001b[0;32m     19\u001b[0m \u001b[1;31m# asyncio使用wait等待tasks执行完毕\u001b[0m\u001b[1;33m\u001b[0m\u001b[1;33m\u001b[0m\u001b[0m\n\u001b[1;32m---> 20\u001b[1;33m \u001b[0mloop\u001b[0m\u001b[1;33m.\u001b[0m\u001b[0mrun_until_complete\u001b[0m\u001b[1;33m(\u001b[0m\u001b[0masyncio\u001b[0m\u001b[1;33m.\u001b[0m\u001b[0mwait\u001b[0m\u001b[1;33m(\u001b[0m\u001b[0mtasks\u001b[0m\u001b[1;33m)\u001b[0m\u001b[1;33m)\u001b[0m\u001b[1;33m\u001b[0m\u001b[0m\n\u001b[0m\u001b[0;32m     21\u001b[0m \u001b[1;31m# 关闭消息寻混\u001b[0m\u001b[1;33m\u001b[0m\u001b[1;33m\u001b[0m\u001b[0m\n\u001b[0;32m     22\u001b[0m \u001b[0mloop\u001b[0m\u001b[1;33m.\u001b[0m\u001b[0mclose\u001b[0m\u001b[1;33m(\u001b[0m\u001b[1;33m)\u001b[0m\u001b[1;33m\u001b[0m\u001b[0m\n",
      "\u001b[1;32mC:\\ProgramData\\Anaconda3\\lib\\asyncio\\base_events.py\u001b[0m in \u001b[0;36mrun_until_complete\u001b[1;34m(self, future)\u001b[0m\n\u001b[0;32m    553\u001b[0m         \u001b[0mfuture\u001b[0m\u001b[1;33m.\u001b[0m\u001b[0madd_done_callback\u001b[0m\u001b[1;33m(\u001b[0m\u001b[0m_run_until_complete_cb\u001b[0m\u001b[1;33m)\u001b[0m\u001b[1;33m\u001b[0m\u001b[0m\n\u001b[0;32m    554\u001b[0m         \u001b[1;32mtry\u001b[0m\u001b[1;33m:\u001b[0m\u001b[1;33m\u001b[0m\u001b[0m\n\u001b[1;32m--> 555\u001b[1;33m             \u001b[0mself\u001b[0m\u001b[1;33m.\u001b[0m\u001b[0mrun_forever\u001b[0m\u001b[1;33m(\u001b[0m\u001b[1;33m)\u001b[0m\u001b[1;33m\u001b[0m\u001b[0m\n\u001b[0m\u001b[0;32m    556\u001b[0m         \u001b[1;32mexcept\u001b[0m\u001b[1;33m:\u001b[0m\u001b[1;33m\u001b[0m\u001b[0m\n\u001b[0;32m    557\u001b[0m             \u001b[1;32mif\u001b[0m \u001b[0mnew_task\u001b[0m \u001b[1;32mand\u001b[0m \u001b[0mfuture\u001b[0m\u001b[1;33m.\u001b[0m\u001b[0mdone\u001b[0m\u001b[1;33m(\u001b[0m\u001b[1;33m)\u001b[0m \u001b[1;32mand\u001b[0m \u001b[1;32mnot\u001b[0m \u001b[0mfuture\u001b[0m\u001b[1;33m.\u001b[0m\u001b[0mcancelled\u001b[0m\u001b[1;33m(\u001b[0m\u001b[1;33m)\u001b[0m\u001b[1;33m:\u001b[0m\u001b[1;33m\u001b[0m\u001b[0m\n",
      "\u001b[1;32mC:\\ProgramData\\Anaconda3\\lib\\asyncio\\base_events.py\u001b[0m in \u001b[0;36mrun_forever\u001b[1;34m(self)\u001b[0m\n\u001b[0;32m    508\u001b[0m         \u001b[0mself\u001b[0m\u001b[1;33m.\u001b[0m\u001b[0m_check_closed\u001b[0m\u001b[1;33m(\u001b[0m\u001b[1;33m)\u001b[0m\u001b[1;33m\u001b[0m\u001b[0m\n\u001b[0;32m    509\u001b[0m         \u001b[1;32mif\u001b[0m \u001b[0mself\u001b[0m\u001b[1;33m.\u001b[0m\u001b[0mis_running\u001b[0m\u001b[1;33m(\u001b[0m\u001b[1;33m)\u001b[0m\u001b[1;33m:\u001b[0m\u001b[1;33m\u001b[0m\u001b[0m\n\u001b[1;32m--> 510\u001b[1;33m             \u001b[1;32mraise\u001b[0m \u001b[0mRuntimeError\u001b[0m\u001b[1;33m(\u001b[0m\u001b[1;34m'This event loop is already running'\u001b[0m\u001b[1;33m)\u001b[0m\u001b[1;33m\u001b[0m\u001b[0m\n\u001b[0m\u001b[0;32m    511\u001b[0m         \u001b[1;32mif\u001b[0m \u001b[0mevents\u001b[0m\u001b[1;33m.\u001b[0m\u001b[0m_get_running_loop\u001b[0m\u001b[1;33m(\u001b[0m\u001b[1;33m)\u001b[0m \u001b[1;32mis\u001b[0m \u001b[1;32mnot\u001b[0m \u001b[1;32mNone\u001b[0m\u001b[1;33m:\u001b[0m\u001b[1;33m\u001b[0m\u001b[0m\n\u001b[0;32m    512\u001b[0m             raise RuntimeError(\n",
      "\u001b[1;31mRuntimeError\u001b[0m: This event loop is already running"
     ],
     "output_type": "error"
    },
    {
     "name": "stdout",
     "output_type": "stream",
     "text": [
      "Hello world! (<_MainThread(MainThread, started 34952)>)\n",
      "Start...(<_MainThread(MainThread, started 34952)>)\n",
      "Hello world! (<_MainThread(MainThread, started 34952)>)\n",
      "Start...(<_MainThread(MainThread, started 34952)>)\n",
      "Done...(<_MainThread(MainThread, started 34952)>)\n",
      "Hello again! (<_MainThread(MainThread, started 34952)>)\n",
      "Done...(<_MainThread(MainThread, started 34952)>)\n",
      "Hello again! (<_MainThread(MainThread, started 34952)>)\n"
     ]
    }
   ],
   "source": [
    "# asyncio异步协成，简单案例1\n",
    "# 导入多线程\n",
    "import threading\n",
    "# 引入异步io包\n",
    "import asyncio\n",
    "# 使用协程\n",
    "@asyncio.coroutine\n",
    "# 使用协成\n",
    "def hello():\n",
    "    print('Hello world! (%s)' % threading.currentThread())\n",
    "    print('Start...(%s)' % threading.currentThread())\n",
    "    yield from asyncio.sleep(5)\n",
    "    print('Done...(%s)' % threading.currentThread())\n",
    "    print('Hello again! (%s)' % threading.currentThread())\n",
    "# 启动消息循环\n",
    "loop = asyncio.get_event_loop()                                                                         # loop 循环\n",
    "# 定义任务\n",
    "tasks = [hello(), hello()]\n",
    "# asyncio使用wait等待tasks执行完毕\n",
    "loop.run_until_complete(asyncio.wait(tasks))\n",
    "# 关闭消息寻混\n",
    "loop.close()\n"
   ]
  },
  {
   "cell_type": "code",
   "execution_count": 26,
   "metadata": {},
   "outputs": [
    {
     "ename": "RuntimeError",
     "evalue": "This event loop is already running",
     "traceback": [
      "\u001b[1;31m---------------------------------------------------------------------------\u001b[0m",
      "\u001b[1;31mRuntimeError\u001b[0m                              Traceback (most recent call last)",
      "\u001b[1;32m<ipython-input-26-7553bd5cd98e>\u001b[0m in \u001b[0;36m<module>\u001b[1;34m()\u001b[0m\n\u001b[0;32m     20\u001b[0m \u001b[0mloop\u001b[0m \u001b[1;33m=\u001b[0m \u001b[0masyncio\u001b[0m\u001b[1;33m.\u001b[0m\u001b[0mget_event_loop\u001b[0m\u001b[1;33m(\u001b[0m\u001b[1;33m)\u001b[0m\u001b[1;33m\u001b[0m\u001b[0m\n\u001b[0;32m     21\u001b[0m \u001b[0mtasks\u001b[0m \u001b[1;33m=\u001b[0m \u001b[1;33m[\u001b[0m\u001b[0mwget\u001b[0m\u001b[1;33m(\u001b[0m\u001b[0mhost\u001b[0m\u001b[1;33m)\u001b[0m \u001b[1;32mfor\u001b[0m \u001b[0mhost\u001b[0m \u001b[1;32min\u001b[0m \u001b[1;33m[\u001b[0m\u001b[1;34m'www.sina.com.cn'\u001b[0m\u001b[1;33m,\u001b[0m \u001b[1;34m'www.sohu.com'\u001b[0m\u001b[1;33m]\u001b[0m\u001b[1;33m]\u001b[0m\u001b[1;33m\u001b[0m\u001b[0m\n\u001b[1;32m---> 22\u001b[1;33m \u001b[0mloop\u001b[0m\u001b[1;33m.\u001b[0m\u001b[0mrun_until_complete\u001b[0m\u001b[1;33m(\u001b[0m\u001b[0masyncio\u001b[0m\u001b[1;33m.\u001b[0m\u001b[0mwait\u001b[0m\u001b[1;33m(\u001b[0m\u001b[0mtasks\u001b[0m\u001b[1;33m)\u001b[0m\u001b[1;33m)\u001b[0m\u001b[1;33m\u001b[0m\u001b[0m\n\u001b[0m\u001b[0;32m     23\u001b[0m \u001b[0mloop\u001b[0m\u001b[1;33m.\u001b[0m\u001b[0mclose\u001b[0m\u001b[1;33m(\u001b[0m\u001b[1;33m)\u001b[0m\u001b[1;33m\u001b[0m\u001b[0m\n",
      "\u001b[1;32mC:\\ProgramData\\Anaconda3\\lib\\asyncio\\base_events.py\u001b[0m in \u001b[0;36mrun_until_complete\u001b[1;34m(self, future)\u001b[0m\n\u001b[0;32m    553\u001b[0m         \u001b[0mfuture\u001b[0m\u001b[1;33m.\u001b[0m\u001b[0madd_done_callback\u001b[0m\u001b[1;33m(\u001b[0m\u001b[0m_run_until_complete_cb\u001b[0m\u001b[1;33m)\u001b[0m\u001b[1;33m\u001b[0m\u001b[0m\n\u001b[0;32m    554\u001b[0m         \u001b[1;32mtry\u001b[0m\u001b[1;33m:\u001b[0m\u001b[1;33m\u001b[0m\u001b[0m\n\u001b[1;32m--> 555\u001b[1;33m             \u001b[0mself\u001b[0m\u001b[1;33m.\u001b[0m\u001b[0mrun_forever\u001b[0m\u001b[1;33m(\u001b[0m\u001b[1;33m)\u001b[0m\u001b[1;33m\u001b[0m\u001b[0m\n\u001b[0m\u001b[0;32m    556\u001b[0m         \u001b[1;32mexcept\u001b[0m\u001b[1;33m:\u001b[0m\u001b[1;33m\u001b[0m\u001b[0m\n\u001b[0;32m    557\u001b[0m             \u001b[1;32mif\u001b[0m \u001b[0mnew_task\u001b[0m \u001b[1;32mand\u001b[0m \u001b[0mfuture\u001b[0m\u001b[1;33m.\u001b[0m\u001b[0mdone\u001b[0m\u001b[1;33m(\u001b[0m\u001b[1;33m)\u001b[0m \u001b[1;32mand\u001b[0m \u001b[1;32mnot\u001b[0m \u001b[0mfuture\u001b[0m\u001b[1;33m.\u001b[0m\u001b[0mcancelled\u001b[0m\u001b[1;33m(\u001b[0m\u001b[1;33m)\u001b[0m\u001b[1;33m:\u001b[0m\u001b[1;33m\u001b[0m\u001b[0m\n",
      "\u001b[1;32mC:\\ProgramData\\Anaconda3\\lib\\asyncio\\base_events.py\u001b[0m in \u001b[0;36mrun_forever\u001b[1;34m(self)\u001b[0m\n\u001b[0;32m    508\u001b[0m         \u001b[0mself\u001b[0m\u001b[1;33m.\u001b[0m\u001b[0m_check_closed\u001b[0m\u001b[1;33m(\u001b[0m\u001b[1;33m)\u001b[0m\u001b[1;33m\u001b[0m\u001b[0m\n\u001b[0;32m    509\u001b[0m         \u001b[1;32mif\u001b[0m \u001b[0mself\u001b[0m\u001b[1;33m.\u001b[0m\u001b[0mis_running\u001b[0m\u001b[1;33m(\u001b[0m\u001b[1;33m)\u001b[0m\u001b[1;33m:\u001b[0m\u001b[1;33m\u001b[0m\u001b[0m\n\u001b[1;32m--> 510\u001b[1;33m             \u001b[1;32mraise\u001b[0m \u001b[0mRuntimeError\u001b[0m\u001b[1;33m(\u001b[0m\u001b[1;34m'This event loop is already running'\u001b[0m\u001b[1;33m)\u001b[0m\u001b[1;33m\u001b[0m\u001b[0m\n\u001b[0m\u001b[0;32m    511\u001b[0m         \u001b[1;32mif\u001b[0m \u001b[0mevents\u001b[0m\u001b[1;33m.\u001b[0m\u001b[0m_get_running_loop\u001b[0m\u001b[1;33m(\u001b[0m\u001b[1;33m)\u001b[0m \u001b[1;32mis\u001b[0m \u001b[1;32mnot\u001b[0m \u001b[1;32mNone\u001b[0m\u001b[1;33m:\u001b[0m\u001b[1;33m\u001b[0m\u001b[0m\n\u001b[0;32m    512\u001b[0m             raise RuntimeError(\n",
      "\u001b[1;31mRuntimeError\u001b[0m: This event loop is already running"
     ],
     "output_type": "error"
    },
    {
     "name": "stdout",
     "output_type": "stream",
     "text": [
      "weget www.sohu.com...\n",
      "weget www.sina.com.cn...\n"
     ]
    }
   ],
   "source": [
    "# asyncio异步用协成请求网络地址，案例2\n",
    "import asyncio\n",
    "@asyncio.coroutine\n",
    "def wget(host):\n",
    "    print('weget %s...' % host)\n",
    "    # 异步请求网络地址\n",
    "    connect = asyncio.open_connection(host, 80)\n",
    "    # 注意yield from的用法\n",
    "    reader, writer = yield from connect\n",
    "    header = 'GET / HTTP/1.0\\r\\nHost: %s\\r\\n\\r\\n' % host\n",
    "    writer.writer(header.encode('utf-8'))\n",
    "    yield from writer.drain()\n",
    "    while True:\n",
    "        line = yield from reader.readline()\n",
    "        # http协议的换行使用\\r\\n\n",
    "        if line ==b'\\r\\n':\n",
    "            break\n",
    "        print('%s header > %s' % (host, line.decode('utf-8').rstrip()))\n",
    "    writer.close()\n",
    "loop = asyncio.get_event_loop()\n",
    "tasks = [wget(host) for host in ['www.sina.com.cn', 'www.sohu.com']]\n",
    "loop.run_until_complete(asyncio.wait(tasks))\n",
    "loop.close()\n"
   ]
  },
  {
   "cell_type": "markdown",
   "metadata": {},
   "source": [
    "# asyncio and await\n",
    "        · 为了更好的表示异步io\n",
    "        · Python3.5引入\n",
    "        · 让协成代码更简洁\n",
    "        · 使用上，可以简单的进行替换\n",
    "            · 用asyncio替换@asyncio.coroutine\n",
    "            · 用await替换yield from"
   ]
  },
  {
   "cell_type": "code",
   "execution_count": 27,
   "metadata": {},
   "outputs": [
    {
     "ename": "RuntimeError",
     "evalue": "This event loop is already running",
     "traceback": [
      "\u001b[1;31m---------------------------------------------------------------------------\u001b[0m",
      "\u001b[1;31mRuntimeError\u001b[0m                              Traceback (most recent call last)",
      "\u001b[1;32m<ipython-input-27-f8b8b0c72080>\u001b[0m in \u001b[0;36m<module>\u001b[1;34m()\u001b[0m\n\u001b[0;32m     16\u001b[0m \u001b[0mtasks\u001b[0m \u001b[1;33m=\u001b[0m \u001b[1;33m[\u001b[0m\u001b[0mhello\u001b[0m\u001b[1;33m(\u001b[0m\u001b[1;33m)\u001b[0m\u001b[1;33m,\u001b[0m \u001b[0mhello\u001b[0m\u001b[1;33m(\u001b[0m\u001b[1;33m)\u001b[0m\u001b[1;33m]\u001b[0m\u001b[1;33m\u001b[0m\u001b[0m\n\u001b[0;32m     17\u001b[0m \u001b[1;31m# asyncio使用wait等待tasks执行完毕\u001b[0m\u001b[1;33m\u001b[0m\u001b[1;33m\u001b[0m\u001b[0m\n\u001b[1;32m---> 18\u001b[1;33m \u001b[0mloop\u001b[0m\u001b[1;33m.\u001b[0m\u001b[0mrun_until_complete\u001b[0m\u001b[1;33m(\u001b[0m\u001b[0masyncio\u001b[0m\u001b[1;33m.\u001b[0m\u001b[0mwait\u001b[0m\u001b[1;33m(\u001b[0m\u001b[0mtasks\u001b[0m\u001b[1;33m)\u001b[0m\u001b[1;33m)\u001b[0m\u001b[1;33m\u001b[0m\u001b[0m\n\u001b[0m\u001b[0;32m     19\u001b[0m \u001b[1;31m# 关闭消息寻混\u001b[0m\u001b[1;33m\u001b[0m\u001b[1;33m\u001b[0m\u001b[0m\n\u001b[0;32m     20\u001b[0m \u001b[0mloop\u001b[0m\u001b[1;33m.\u001b[0m\u001b[0mclose\u001b[0m\u001b[1;33m(\u001b[0m\u001b[1;33m)\u001b[0m\u001b[1;33m\u001b[0m\u001b[0m\n",
      "\u001b[1;32mC:\\ProgramData\\Anaconda3\\lib\\asyncio\\base_events.py\u001b[0m in \u001b[0;36mrun_until_complete\u001b[1;34m(self, future)\u001b[0m\n\u001b[0;32m    553\u001b[0m         \u001b[0mfuture\u001b[0m\u001b[1;33m.\u001b[0m\u001b[0madd_done_callback\u001b[0m\u001b[1;33m(\u001b[0m\u001b[0m_run_until_complete_cb\u001b[0m\u001b[1;33m)\u001b[0m\u001b[1;33m\u001b[0m\u001b[0m\n\u001b[0;32m    554\u001b[0m         \u001b[1;32mtry\u001b[0m\u001b[1;33m:\u001b[0m\u001b[1;33m\u001b[0m\u001b[0m\n\u001b[1;32m--> 555\u001b[1;33m             \u001b[0mself\u001b[0m\u001b[1;33m.\u001b[0m\u001b[0mrun_forever\u001b[0m\u001b[1;33m(\u001b[0m\u001b[1;33m)\u001b[0m\u001b[1;33m\u001b[0m\u001b[0m\n\u001b[0m\u001b[0;32m    556\u001b[0m         \u001b[1;32mexcept\u001b[0m\u001b[1;33m:\u001b[0m\u001b[1;33m\u001b[0m\u001b[0m\n\u001b[0;32m    557\u001b[0m             \u001b[1;32mif\u001b[0m \u001b[0mnew_task\u001b[0m \u001b[1;32mand\u001b[0m \u001b[0mfuture\u001b[0m\u001b[1;33m.\u001b[0m\u001b[0mdone\u001b[0m\u001b[1;33m(\u001b[0m\u001b[1;33m)\u001b[0m \u001b[1;32mand\u001b[0m \u001b[1;32mnot\u001b[0m \u001b[0mfuture\u001b[0m\u001b[1;33m.\u001b[0m\u001b[0mcancelled\u001b[0m\u001b[1;33m(\u001b[0m\u001b[1;33m)\u001b[0m\u001b[1;33m:\u001b[0m\u001b[1;33m\u001b[0m\u001b[0m\n",
      "\u001b[1;32mC:\\ProgramData\\Anaconda3\\lib\\asyncio\\base_events.py\u001b[0m in \u001b[0;36mrun_forever\u001b[1;34m(self)\u001b[0m\n\u001b[0;32m    508\u001b[0m         \u001b[0mself\u001b[0m\u001b[1;33m.\u001b[0m\u001b[0m_check_closed\u001b[0m\u001b[1;33m(\u001b[0m\u001b[1;33m)\u001b[0m\u001b[1;33m\u001b[0m\u001b[0m\n\u001b[0;32m    509\u001b[0m         \u001b[1;32mif\u001b[0m \u001b[0mself\u001b[0m\u001b[1;33m.\u001b[0m\u001b[0mis_running\u001b[0m\u001b[1;33m(\u001b[0m\u001b[1;33m)\u001b[0m\u001b[1;33m:\u001b[0m\u001b[1;33m\u001b[0m\u001b[0m\n\u001b[1;32m--> 510\u001b[1;33m             \u001b[1;32mraise\u001b[0m \u001b[0mRuntimeError\u001b[0m\u001b[1;33m(\u001b[0m\u001b[1;34m'This event loop is already running'\u001b[0m\u001b[1;33m)\u001b[0m\u001b[1;33m\u001b[0m\u001b[0m\n\u001b[0m\u001b[0;32m    511\u001b[0m         \u001b[1;32mif\u001b[0m \u001b[0mevents\u001b[0m\u001b[1;33m.\u001b[0m\u001b[0m_get_running_loop\u001b[0m\u001b[1;33m(\u001b[0m\u001b[1;33m)\u001b[0m \u001b[1;32mis\u001b[0m \u001b[1;32mnot\u001b[0m \u001b[1;32mNone\u001b[0m\u001b[1;33m:\u001b[0m\u001b[1;33m\u001b[0m\u001b[0m\n\u001b[0;32m    512\u001b[0m             raise RuntimeError(\n",
      "\u001b[1;31mRuntimeError\u001b[0m: This event loop is already running"
     ],
     "output_type": "error"
    },
    {
     "name": "stdout",
     "output_type": "stream",
     "text": [
      "Hello world! (<_MainThread(MainThread, started 34952)>)\n",
      "Start...(<_MainThread(MainThread, started 34952)>)\n",
      "Hello world! (<_MainThread(MainThread, started 34952)>)\n",
      "Start...(<_MainThread(MainThread, started 34952)>)\n",
      "Done...(<_MainThread(MainThread, started 34952)>)\n",
      "Hello again! (<_MainThread(MainThread, started 34952)>)\n",
      "Done...(<_MainThread(MainThread, started 34952)>)\n",
      "Hello again! (<_MainThread(MainThread, started 34952)>)\n"
     ]
    }
   ],
   "source": [
    "import threading\n",
    "import asyncio\n",
    "\n",
    "#@asyncio.coroutine\n",
    "# 使用协成\n",
    "async def hello():\n",
    "    print('Hello world! (%s)' % threading.currentThread())\n",
    "    print('Start...(%s)' % threading.currentThread())\n",
    "    #yield from asyncio.sleep(5)\n",
    "    await asyncio.sleep(5)\n",
    "    print('Done...(%s)' % threading.currentThread())\n",
    "    print('Hello again! (%s)' % threading.currentThread())\n",
    "# 启动消息循环\n",
    "loop = asyncio.get_event_loop()\n",
    "# 定义任务\n",
    "tasks = [hello(), hello()]\n",
    "# asyncio使用wait等待tasks执行完毕\n",
    "loop.run_until_complete(asyncio.wait(tasks))\n",
    "# 关闭消息寻混\n",
    "loop.close()"
   ]
  },
  {
   "cell_type": "markdown",
   "metadata": {},
   "source": [
    "# aiohttp\n",
    "          · asyncio实现单线程的并发io，在客户端用处不大\n",
    "          · 在服务器端可以asyncio+coroutine配合，因为http是io操作\n",
    "          · asyncio实现了tcp，udp，ssl等协议\n",
    "          · aiohttp是给与asyncio实现的http框架\n",
    "          · pip install aiohttp安装"
   ]
  },
  {
   "cell_type": "code",
   "execution_count": 28,
   "metadata": {},
   "outputs": [
    {
     "ename": "ModuleNotFoundError",
     "evalue": "No module named 'aiohttp'",
     "traceback": [
      "\u001b[1;31m---------------------------------------------------------------------------\u001b[0m",
      "\u001b[1;31mModuleNotFoundError\u001b[0m                       Traceback (most recent call last)",
      "\u001b[1;32m<ipython-input-28-f0f554959cac>\u001b[0m in \u001b[0;36m<module>\u001b[1;34m()\u001b[0m\n\u001b[0;32m      1\u001b[0m \u001b[1;31m# aiohttp案例\u001b[0m\u001b[1;33m\u001b[0m\u001b[1;33m\u001b[0m\u001b[0m\n\u001b[0;32m      2\u001b[0m \u001b[1;32mimport\u001b[0m \u001b[0masyncio\u001b[0m\u001b[1;33m\u001b[0m\u001b[0m\n\u001b[1;32m----> 3\u001b[1;33m \u001b[1;32mfrom\u001b[0m \u001b[0maiohttp\u001b[0m \u001b[1;32mimport\u001b[0m \u001b[0mweb\u001b[0m\u001b[1;33m\u001b[0m\u001b[0m\n\u001b[0m\u001b[0;32m      4\u001b[0m \u001b[1;32masync\u001b[0m \u001b[1;32mdef\u001b[0m \u001b[0mindex\u001b[0m\u001b[1;33m(\u001b[0m\u001b[0mrequest\u001b[0m\u001b[1;33m)\u001b[0m\u001b[1;33m:\u001b[0m\u001b[1;33m\u001b[0m\u001b[0m\n\u001b[0;32m      5\u001b[0m     \u001b[1;32mawait\u001b[0m \u001b[0masyncio\u001b[0m\u001b[1;33m.\u001b[0m\u001b[0msleep\u001b[0m\u001b[1;33m(\u001b[0m\u001b[1;36m0.5\u001b[0m\u001b[1;33m)\u001b[0m\u001b[1;33m\u001b[0m\u001b[0m\n",
      "\u001b[1;31mModuleNotFoundError\u001b[0m: No module named 'aiohttp'"
     ],
     "output_type": "error"
    }
   ],
   "source": [
    "# aiohttp案例\n",
    "import asyncio\n",
    "from aiohttp import web\n",
    "async def index(request):\n",
    "    await asyncio.sleep(0.5)\n",
    "    return web.Response(body=b'<h1>Index</h1>')\n",
    "async def hello(request):\n",
    "    await asyncio.sleep(0.5)\n",
    "    text = '<h1>hello,%s!</h1>' % request.match_info['name']\n",
    "    return web.Response(body=text.encode('utf-8'))\n",
    "async def init(loop):\n",
    "    app = web.Application(loop=loop)\n",
    "    app.router.add_route('GET', '/', index)\n",
    "    app.router.add_route('GET', '/hello/{name}', hello)\n",
    "    srv = await loop.create_server(app.make_handler(), '127.0.0.1', 8080)\n",
    "    print('Server started at http://127.0.0.1:8080...')\n",
    "    return srv\n",
    "loop = asyncio.get_event_loop()\n",
    "loop.run_until_complete(init(loop))\n",
    "loop.run_forever()"
   ]
  },
  {
   "cell_type": "markdown",
   "metadata": {},
   "source": [
    "# concurrent.futures\n",
    "          · Python3新增的库\n",
    "          · 类似其他语言的线程池概念\n",
    "          · 利用multiprocessing实现真正的计算\n",
    "          · 核心原理：以子进程的形式，并行运行多个python解释器\n",
    "        　　　    · 从而令Python程序可以利用多核CPU来提升执行速度\n",
    "                  · 由于子进程与主解释器相分离，所以他们的全局解释器锁也是相互独立的\n",
    "                  · 每个子进程都能够完整的使用一个CPU内核\n",
    "          · concurrent.futures.Executor\n",
    "            · ThreadPoolExecutor\n",
    "            · ProcessPoolExecutor\n",
    "            执行的时候上面二者之间自行选择\n",
    "          · submit(fn, args, kwargs)\n",
    "            · fn:异步执行的函数\n",
    "            · args, kwargs传参"
   ]
  },
  {
   "cell_type": "code",
   "execution_count": 29,
   "metadata": {},
   "outputs": [
    {
     "name": "stdout",
     "output_type": "stream",
     "text": [
      "False\n",
      "False\n",
      "hello\n",
      "world\n"
     ]
    }
   ],
   "source": [
    "# 关于concurrent.futures案例\n",
    "from concurrent.futures import ThreadPoolExecutor\n",
    "import time\n",
    "\n",
    "def return_future(msg):\n",
    "    time.sleep(3)\n",
    "    return msg\n",
    "# 创建一个线程池\n",
    "pool = ThreadPoolExecutor(max_workers=2)\n",
    "# 往线程池加入两个task\n",
    "f1 = pool.submit(return_future, 'hello')\n",
    "f2 = pool.submit(return_future, 'world')\n",
    "# done等待执行完毕\n",
    "print(f1.done())\n",
    "time.sleep(3)\n",
    "print(f2.done())\n",
    "# result结果\n",
    "print(f1.result())\n",
    "print(f2.result())\n"
   ]
  },
  {
   "cell_type": "markdown",
   "metadata": {},
   "source": [
    "# concurrent中的map函数\n",
    "        · map(fn, \\*iterables, timeout=None)\n",
    "            · 第二个参数跟可迭代的对象\n",
    "            · 很map函数类似\n",
    "            · 函数需要异步执行\n",
    "            · timeout:超时时间\n",
    "            · map跟submit选一个使用就行"
   ]
  },
  {
   "cell_type": "code",
   "execution_count": 31,
   "metadata": {},
   "outputs": [
    {
     "name": "stdout",
     "output_type": "stream",
     "text": [
      "13\n",
      "\n",
      "ok\n",
      "ok\n"
     ]
    }
   ],
   "source": [
    "# map案例\n",
    "import time, re\n",
    "import os, datetime\n",
    "from concurrent import futures\n",
    "\n",
    "data = ['1', '3']\n",
    "def wait_on(argument):\n",
    "    print(argument)\n",
    "    time.sleep(2)\n",
    "    return \"ok\"\n",
    "ex = futures.ThreadPoolExecutor(max_workers=2)\n",
    "for i in ex.map(wait_on, data):\n",
    "    print(i)\n"
   ]
  },
  {
   "cell_type": "code",
   "execution_count": null,
   "metadata": {},
   "outputs": [],
   "source": [
    "# Future\n",
    "　　· 周潇的同学三分钟后要到周潇家里做客，周潇想送给同学一条烟作为礼物\n",
    "　　· 可是周潇手头没烟\n",
    "　　· 于是让sj帮忙去买烟，路程耗时30分钟\n",
    "　　· 等同学到家后，周潇只好想辙指着空礼物盒对同学说这是给你的礼物，等你走的时候带走，先放这\n",
    "　　· 随后周潇和同学聊了一小时天\n",
    "　　· 期间27分钟后sj带着烟回来了，把烟放入了礼物盒\n",
    "　　· 两小时候同学离开，并带走了周潇送他的礼物\n",
    "　　· 礼物盒就是Future"
   ]
  },
  {
   "cell_type": "code",
   "execution_count": null,
   "metadata": {},
   "outputs": [],
   "source": []
  },
  {
   "cell_type": "code",
   "execution_count": null,
   "metadata": {},
   "outputs": [],
   "source": []
  }
 ],
 "metadata": {
  "kernelspec": {
   "display_name": "Python 3",
   "language": "python",
   "name": "python3"
  },
  "language_info": {
   "codemirror_mode": {
    "name": "ipython",
    "version": 3
   },
   "file_extension": ".py",
   "mimetype": "text/x-python",
   "name": "python",
   "nbconvert_exporter": "python",
   "pygments_lexer": "ipython3",
   "version": "3.7.0"
  }
 },
 "nbformat": 4,
 "nbformat_minor": 2
}
